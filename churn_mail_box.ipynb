{
  "nbformat": 4,
  "nbformat_minor": 0,
  "metadata": {
    "colab": {
      "provenance": [],
      "collapsed_sections": [],
      "authorship_tag": "ABX9TyNlweq40kLNq+HIQwDsD3XH",
      "include_colab_link": true
    },
    "kernelspec": {
      "name": "python3",
      "display_name": "Python 3"
    },
    "language_info": {
      "name": "python"
    }
  },
  "cells": [
    {
      "cell_type": "markdown",
      "metadata": {
        "id": "view-in-github",
        "colab_type": "text"
      },
      "source": [
        "<a href=\"https://colab.research.google.com/github/masnaashraf/Data-Analytics-python/blob/main/churn_mail_box.ipynb\" target=\"_parent\"><img src=\"https://colab.research.google.com/assets/colab-badge.svg\" alt=\"Open In Colab\"/></a>"
      ]
    },
    {
      "cell_type": "markdown",
      "source": [
        "Churn E Mail-\n",
        "1.Load data set\n",
        "2.Explore the contents of the E mail\n",
        "3.Explore the header of the E mail"
      ],
      "metadata": {
        "id": "B5ChQniM3nuu"
      }
    },
    {
      "cell_type": "markdown",
      "source": [
        "1]Load data set:\n",
        "\n",
        "Define a function line_count\n",
        "Open the file emailchurn.txt \n",
        "Read the file into one string by using read method on file handle\n",
        "Write logic to count the number of lines\n",
        "Return the count of the number of lines\n"
      ],
      "metadata": {
        "id": "hjv31OZb3xfA"
      }
    },
    {
      "cell_type": "code",
      "source": [
        "# Opening a file\n",
        "def line_count():\n",
        "  f=open(\"/content/emailchurn.txt\",\"r\")\n",
        "\n",
        "# Reading from file\n",
        "  content=f.readlines()\n",
        "  return len(content)\n",
        "\n",
        "c=line_count()\n",
        "print(c)\n",
        "\n"
      ],
      "metadata": {
        "colab": {
          "base_uri": "https://localhost:8080/"
        },
        "id": "uG0dx6z432IC",
        "outputId": "60adc8c3-c8eb-43e4-a726-8c2888e51fbf"
      },
      "execution_count": null,
      "outputs": [
        {
          "output_type": "stream",
          "name": "stdout",
          "text": [
            "1909\n"
          ]
        }
      ]
    },
    {
      "cell_type": "markdown",
      "source": [
        "2.Explore the contents of the E mail"
      ],
      "metadata": {
        "id": "JfxicD0RP72z"
      }
    },
    {
      "cell_type": "markdown",
      "source": [
        "Write a function subject_lines_count which returns the count of the number of lines starting with Subject: in the file emailchurn.txt\n",
        "\n",
        "Define a function average_spam_confidence which calculates the average spam confidence and returns it\n",
        "Open the file emailchurn.txt \n",
        "Loop through the file handle\n",
        "Select only those lines starts with X-DSPAM-Confidence:\n",
        "Split the lines at : and take the float value which is spam confidence\n",
        "Find the average of this spam confidence in the entire file and return it."
      ],
      "metadata": {
        "id": "Nxx_sA354Jza"
      }
    },
    {
      "cell_type": "markdown",
      "source": [
        "count number of lines that starts with "
      ],
      "metadata": {
        "id": "Tlw4stk7XTjj"
      }
    },
    {
      "cell_type": "code",
      "source": [
        "#count the number of subject lines\n",
        "\n",
        "def subject_lines_count():\n",
        "  f=open(\"/content/emailchurn.txt\",\"r\")\n",
        "  counter=0\n",
        "\n",
        "  content=f.readlines()\n",
        "\n",
        "  for line in content:\n",
        "    if line.startswith(\"Subject\"):\n",
        "      counter=counter+1\n",
        "  return counter\n",
        "\n",
        "slc=subject_lines_count()\n",
        "print(slc)  \n"
      ],
      "metadata": {
        "colab": {
          "base_uri": "https://localhost:8080/"
        },
        "id": "kdpi1QJFPqCG",
        "outputId": "9053374b-f61a-44bb-8411-31d690ac962b"
      },
      "execution_count": null,
      "outputs": [
        {
          "output_type": "stream",
          "name": "stdout",
          "text": [
            "27\n"
          ]
        }
      ]
    },
    {
      "cell_type": "markdown",
      "source": [
        "average of X-DSPAM-Confidence"
      ],
      "metadata": {
        "id": "YmwK50l7dvnV"
      }
    },
    {
      "cell_type": "code",
      "source": [
        "def average_spam_confidence():\n",
        "    with open(\"/content/emailchurn.txt\") as f:\n",
        "        #rf = f.readlines()\n",
        "        counter=0\n",
        "        sum=0\n",
        "        for line in f:\n",
        "          if line.startswith(\"X-DSPAM-Confidence:\"):\n",
        "            x=line.split(' ')\n",
        "            sum=sum+float(x[1])\n",
        "            counter=counter+1\n",
        "\n",
        "    return sum/counter\n",
        "\n",
        "average_spamline=average_spam_confidence()\n",
        "print(average_spamline)\n"
      ],
      "metadata": {
        "colab": {
          "base_uri": "https://localhost:8080/"
        },
        "id": "q1CWBhwRViVm",
        "outputId": "f656626f-78d3-4788-c150-8c6cfb75d106"
      },
      "execution_count": null,
      "outputs": [
        {
          "output_type": "stream",
          "name": "stdout",
          "text": [
            "0.7507185185185187\n"
          ]
        }
      ]
    },
    {
      "cell_type": "markdown",
      "source": [
        "from which day email was sent"
      ],
      "metadata": {
        "id": "Fgwkm8UzkaWO"
      }
    },
    {
      "cell_type": "code",
      "source": [
        "#count the number of subject lines\n",
        "\n",
        "def day_weekt():\n",
        "  f=open(\"/content/emailchurn.txt\",\"r\")\n",
        "  counter=0\n",
        "\n",
        "  content=f.readlines()\n",
        "  \n",
        "  days=[]\n",
        "  for line in content:\n",
        "    if line.startswith(\"From \"):\n",
        "      day=line.split(' ')[2]\n",
        "      days.append(day)\n",
        "  dic_day={}\n",
        "  for day in days:\n",
        "    dic_day[day] = days.count(day)\n",
        "  return days,dic_day\n",
        "      \n",
        "\n",
        "d=day_weekt() \n",
        "print(d)\n"
      ],
      "metadata": {
        "colab": {
          "base_uri": "https://localhost:8080/"
        },
        "id": "eGRbm3D6kyqv",
        "outputId": "ce1d3720-6477-4587-9e05-c355c88212b6"
      },
      "execution_count": null,
      "outputs": [
        {
          "output_type": "stream",
          "name": "stdout",
          "text": [
            "{'Sat': 1}\n",
            "{'Sat': 1, 'Fri': 20}\n",
            "{'Sat': 1, 'Fri': 20}\n",
            "{'Sat': 1, 'Fri': 20}\n",
            "{'Sat': 1, 'Fri': 20}\n",
            "{'Sat': 1, 'Fri': 20}\n",
            "{'Sat': 1, 'Fri': 20}\n",
            "{'Sat': 1, 'Fri': 20}\n",
            "{'Sat': 1, 'Fri': 20}\n",
            "{'Sat': 1, 'Fri': 20}\n",
            "{'Sat': 1, 'Fri': 20}\n",
            "{'Sat': 1, 'Fri': 20}\n",
            "{'Sat': 1, 'Fri': 20}\n",
            "{'Sat': 1, 'Fri': 20}\n",
            "{'Sat': 1, 'Fri': 20}\n",
            "{'Sat': 1, 'Fri': 20}\n",
            "{'Sat': 1, 'Fri': 20}\n",
            "{'Sat': 1, 'Fri': 20}\n",
            "{'Sat': 1, 'Fri': 20}\n",
            "{'Sat': 1, 'Fri': 20}\n",
            "{'Sat': 1, 'Fri': 20}\n",
            "{'Sat': 1, 'Fri': 20, 'Thu': 6}\n",
            "{'Sat': 1, 'Fri': 20, 'Thu': 6}\n",
            "{'Sat': 1, 'Fri': 20, 'Thu': 6}\n",
            "{'Sat': 1, 'Fri': 20, 'Thu': 6}\n",
            "{'Sat': 1, 'Fri': 20, 'Thu': 6}\n",
            "{'Sat': 1, 'Fri': 20, 'Thu': 6}\n",
            "(['Sat', 'Fri', 'Fri', 'Fri', 'Fri', 'Fri', 'Fri', 'Fri', 'Fri', 'Fri', 'Fri', 'Fri', 'Fri', 'Fri', 'Fri', 'Fri', 'Fri', 'Fri', 'Fri', 'Fri', 'Fri', 'Thu', 'Thu', 'Thu', 'Thu', 'Thu', 'Thu'], {'Sat': 1, 'Fri': 20, 'Thu': 6})\n"
          ]
        }
      ]
    },
    {
      "cell_type": "code",
      "source": [
        "#count the number of subject lines\n",
        "\n",
        "def day_weekt():\n",
        "  f=open(\"/content/emailchurn.txt\",\"r\")\n",
        "  counter=0\n",
        "\n",
        "  content=f.readlines()\n",
        "  \n",
        "  days=[]\n",
        "  for line in content:\n",
        "    if line.startswith(\"From \"):\n",
        "      day=line.split(' ')[2]\n",
        "      days.append(day)\n",
        "  dic_day={}\n",
        "  \n",
        "  for day in days:\n",
        "    dic_day[day] = days.count(day)\n",
        "  return days,dic_day\n",
        "      \n",
        "\n",
        "d=day_weekt() \n",
        "print(d)\n"
      ],
      "metadata": {
        "colab": {
          "base_uri": "https://localhost:8080/"
        },
        "id": "wcHP_BFVtHHP",
        "outputId": "f91c80db-6458-43bf-9d1f-036b8d673bb4"
      },
      "execution_count": null,
      "outputs": [
        {
          "output_type": "stream",
          "name": "stdout",
          "text": [
            "(['Sat', 'Fri', 'Fri', 'Fri', 'Fri', 'Fri', 'Fri', 'Fri', 'Fri', 'Fri', 'Fri', 'Fri', 'Fri', 'Fri', 'Fri', 'Fri', 'Fri', 'Fri', 'Fri', 'Fri', 'Fri', 'Thu', 'Thu', 'Thu', 'Thu', 'Thu', 'Thu'], {'Sat': 1, 'Fri': 20, 'Thu': 6})\n"
          ]
        }
      ]
    },
    {
      "cell_type": "markdown",
      "source": [
        "Write a function find_email_sent_days which reads the file emailchurn.txt and categorizes each mail message by which day of the week the email was sent.\n",
        "\n",
        "To do this do the following:\n",
        "\n",
        "Open the file and read it line by line\n",
        "Look for lines that start with \"From\"\n",
        "For those lines which start from \"From\", then look for the third word and keep a running count of each of the days of the week. How do you find the day of the week, is an exercise for you.\n",
        "> Note: You have to store the results in a dictionary. Only store those day of the week that exists. For Example, if there is no line for Mon then it should not be in the dictionary elements.\n",
        "\n",
        "At the end of the program return the contents of your dictionary (order does not matter)\n"
      ],
      "metadata": {
        "id": "x3zz_78Z5LKr"
      }
    },
    {
      "cell_type": "markdown",
      "source": [],
      "metadata": {
        "id": "THd13_u15K5m"
      }
    },
    {
      "cell_type": "code",
      "source": [
        "#count the number of subject lines\n",
        "\n",
        "def find_email_sent_days():\n",
        "  f=open(\"/content/emailchurn.txt\",\"r\")\n",
        "  counter=0\n",
        "\n",
        "  content=f.readlines()\n",
        "  \n",
        "  days=[]\n",
        "  for line in content:\n",
        "    if line.startswith(\"From \"):\n",
        "      day=line.split(' ')[2]\n",
        "      days.append(day)\n",
        "  dic_day={}\n",
        "  \n",
        "  for day in days:\n",
        "    dic_day[day] = days.count(day)\n",
        "  return dic_day\n",
        "      \n",
        "\n",
        "d=find_email_sent_days() \n",
        "print(\"{:<30}{:<20}\".format(\"Weekday\",\"count\"))\n",
        "for k,v in d.items():\n",
        "  print(\"{:<30}{:<20}\".format(k,v))\n",
        "\n",
        "\n"
      ],
      "metadata": {
        "colab": {
          "base_uri": "https://localhost:8080/"
        },
        "id": "EeTwZuybwwSO",
        "outputId": "59bb4c25-fd31-45ea-c715-dc0d469bd37d"
      },
      "execution_count": null,
      "outputs": [
        {
          "output_type": "stream",
          "name": "stdout",
          "text": [
            "Weekday                       count               \n",
            "Sat                           1                   \n",
            "Fri                           20                  \n",
            "Thu                           6                   \n"
          ]
        }
      ]
    },
    {
      "cell_type": "markdown",
      "source": [
        "\n",
        "3]Explore Header of E-Mails"
      ],
      "metadata": {
        "id": "47EbGWwtupla"
      }
    },
    {
      "cell_type": "markdown",
      "source": [
        "Write a function count_message_from_email which reads the file emailchurn.txt.\n",
        "\n",
        "This function builds a histogram using a dictionary to count how many messages have come from each email address and returns the dictionary.\n"
      ],
      "metadata": {
        "id": "LiVWQ3Wq5bLn"
      }
    },
    {
      "cell_type": "code",
      "source": [
        "def count_message_from_email():\n",
        "  f=open(\"/content/emailchurn.txt\",\"r\")\n",
        "  emails=[]\n",
        "  for line in f:\n",
        "    if line.startswith(\"From \"):\n",
        "      mail=line.split(' ')[1]\n",
        "      emails.append(mail)\n",
        "\n",
        "  dic_email={}\n",
        "  for em in emails:\n",
        "    dic_email[em]=emails.count(em)\n",
        "  \n",
        "  return dic_email\n",
        "\n",
        "print(\"{:<50}{:<50}\".format(\"Email id\",\"count\"))\n",
        "total_emails=count_message_from_email()\n",
        "for k,v in total_emails.items():\n",
        "  print(\"{:<50}{:<50}\".format(k,v))\n",
        "  \n",
        "\n"
      ],
      "metadata": {
        "colab": {
          "base_uri": "https://localhost:8080/"
        },
        "id": "M8d1IZxRuoJX",
        "outputId": "cb271f7c-112f-447c-859c-23d2d232ec2c"
      },
      "execution_count": null,
      "outputs": [
        {
          "output_type": "stream",
          "name": "stdout",
          "text": [
            "Email id                                          count                                             \n",
            "stephen.marquard@uct.ac.za                        2                                                 \n",
            "louis@media.berkeley.edu                          3                                                 \n",
            "zqian@umich.edu                                   4                                                 \n",
            "rjlowe@iupui.edu                                  2                                                 \n",
            "cwen@iupui.edu                                    5                                                 \n",
            "gsilver@umich.edu                                 3                                                 \n",
            "wagnermr@iupui.edu                                1                                                 \n",
            "antranig@caret.cam.ac.uk                          1                                                 \n",
            "gopal.ramasammycook@gmail.com                     1                                                 \n",
            "david.horwitz@uct.ac.za                           4                                                 \n",
            "ray@media.berkeley.edu                            1                                                 \n"
          ]
        }
      ]
    },
    {
      "cell_type": "markdown",
      "source": [
        "Write a function count_message_from_domain which reads the file emailchurn.txt.\n",
        "\n",
        "This function builds a histogram using a dictionary to count how many messages have come from each domain(Instead of from email address), and returns the dictionary.\n",
        "\n",
        "If your logic is correct then your function should return below dictionary"
      ],
      "metadata": {
        "id": "BeglJ1wp5m7a"
      }
    },
    {
      "cell_type": "code",
      "source": [
        "def count_message_from_domain():\n",
        "  f=open(\"/content/emailchurn.txt\",\"r\")\n",
        "  list_domain=[]\n",
        "  for line in f:\n",
        "    if line.startswith(\"From \"):\n",
        "      domain=line.split(\" \")[1].split(\"@\")[1]\n",
        "      list_domain.append(domain)\n",
        "\n",
        "  dict_domain={}\n",
        "  for i in list_domain:\n",
        "    dict_domain[i]=list_domain.count(i)\n",
        "\n",
        "  return dict_domain\n",
        "      \n",
        "\n",
        "domain_count=count_message_from_domain()\n",
        "print(\"{:<50}{:<50}\".format(\"Domain name\",\"count\"))\n",
        "for k,v in domain_count.items():\n",
        "  print(\"{:<50}{:<50}\".format(k,v))\n",
        "\n",
        "\n",
        "\n",
        "\n",
        "\n"
      ],
      "metadata": {
        "id": "r-yBYSNYveSi",
        "colab": {
          "base_uri": "https://localhost:8080/"
        },
        "outputId": "1aa60596-5801-4054-f90c-1aabf96819df"
      },
      "execution_count": null,
      "outputs": [
        {
          "output_type": "stream",
          "name": "stdout",
          "text": [
            "Domain name                                       count                                             \n",
            "uct.ac.za                                         6                                                 \n",
            "media.berkeley.edu                                4                                                 \n",
            "umich.edu                                         7                                                 \n",
            "iupui.edu                                         8                                                 \n",
            "caret.cam.ac.uk                                   1                                                 \n",
            "gmail.com                                         1                                                 \n"
          ]
        }
      ]
    },
    {
      "cell_type": "markdown",
      "source": [
        "complete project-email churning"
      ],
      "metadata": {
        "id": "aHMsUhk85vKQ"
      }
    },
    {
      "cell_type": "code",
      "source": [
        "# Opening a file in read mode\n",
        "def line_count():\n",
        "  f=open(\"/content/emailchurn.txt\",\"r\")\n",
        "\n",
        "# Reading from file and returning the length of the file\n",
        "  content=f.readlines()\n",
        "  return len(content)\n",
        "\n",
        "c=line_count()\n",
        "print(c)\n",
        "\n",
        "#count the number of subject lines\n",
        "\n",
        "def subject_lines_count():\n",
        "  f=open(\"/content/emailchurn.txt\",\"r\")\n",
        "  counter=0\n",
        "\n",
        "  content=f.readlines()\n",
        "\n",
        "  for line in content:\n",
        "    if line.startswith(\"Subject\"):   #startswith() method returns True if a string starts with the specified prefix(string). If not, it returns False\n",
        "      counter=counter+1\n",
        "  return counter\n",
        "\n",
        "slc=subject_lines_count()\n",
        "print(slc)  \n",
        "\n",
        "def average_spam_confidence():\n",
        "    with open(\"/content/emailchurn.txt\") as f:\n",
        "        #rf = f.readlines()\n",
        "        counter=0\n",
        "        sum=0\n",
        "        for line in f:\n",
        "          if line.startswith(\"X-DSPAM-Confidence:\"):\n",
        "            x=line.split(' ')   #The split() method splits a string into a list\n",
        "            sum=sum+float(x[1])   #float converts string value in list to float\n",
        "            counter=counter+1\n",
        "\n",
        "    return sum/counter\n",
        "\n",
        "average_spamline=average_spam_confidence()\n",
        "print(average_spamline)\n",
        "\n",
        "\n",
        "#count the number of subject lines\n",
        "\n",
        "def find_email_sent_days():\n",
        "  f=open(\"/content/emailchurn.txt\",\"r\")\n",
        "  counter=0\n",
        "\n",
        "  content=f.readlines()\n",
        "  \n",
        "  days=[]\n",
        "  for line in content:\n",
        "    if line.startswith(\"From \"):\n",
        "      day=line.split(' ')[2] #The split() method splits a string into a list and acessing only the 3rd element\n",
        "      days.append(day)\n",
        "  dic_day={}\n",
        "  \n",
        "  #finding the count of unique item in the list and storing the item and count to dictionary\n",
        "  for day in days:\n",
        "    dic_day[day] = days.count(day)\n",
        "  return dic_day\n",
        "      \n",
        "\n",
        "d=find_email_sent_days() \n",
        "#printing week day and count of email sent\n",
        "print(\"{:<30}{:<20}\".format(\"Weekday\",\"count\"))\n",
        "for k,v in d.items():\n",
        "  print(\"{:<30}{:<20}\".format(k,v))\n",
        "\n",
        "\n",
        "def count_message_from_email():\n",
        "  f=open(\"/content/emailchurn.txt\",\"r\")\n",
        "  emails=[]\n",
        "  for line in f:\n",
        "    if line.startswith(\"From \"):\n",
        "      mail=line.split(' ')[1]  #The split() method splits a string into a list and acessing only the 3rd element\n",
        "      emails.append(mail)\n",
        "\n",
        "  dic_email={}\n",
        "  for em in emails:\n",
        "    dic_email[em]=emails.count(em)\n",
        "  \n",
        "  return dic_email\n",
        "#printing email and count of email sent\n",
        "print(\"{:<50}{:<50}\".format(\"Email id\",\"count\"))\n",
        "total_emails=count_message_from_email()\n",
        "for k,v in total_emails.items():\n",
        "  print(\"{:<50}{:<50}\".format(k,v))\n",
        "  \n",
        "def count_message_from_domain():\n",
        "  f=open(\"/content/emailchurn.txt\",\"r\")\n",
        "  list_domain=[]\n",
        "  for line in f:\n",
        "    if line.startswith(\"From \"):\n",
        "      domain=line.split(\" \")[1].split(\"@\")[1] #The split() method splits a string into a list ,again spliting with delimeter \"@\" and the acessing 2nd element to get domain name\n",
        "      list_domain.append(domain)\n",
        "\n",
        "  dict_domain={}\n",
        "  for i in list_domain:\n",
        "    dict_domain[i]=list_domain.count(i)\n",
        "\n",
        "  return dict_domain\n",
        "      \n",
        "\n",
        "domain_count=count_message_from_domain()\n",
        "print(\"{:<50}{:<50}\".format(\"Domain name\",\"count\"))\n",
        "for k,v in domain_count.items():\n",
        "  print(\"{:<50}{:<50}\".format(k,v))\n",
        "\n",
        "\n",
        "\n",
        "\n",
        "\n"
      ],
      "metadata": {
        "colab": {
          "base_uri": "https://localhost:8080/"
        },
        "id": "vrDT8Zbr5udn",
        "outputId": "e3965708-98c5-4f2b-cfaf-4611b12c0203"
      },
      "execution_count": null,
      "outputs": [
        {
          "output_type": "stream",
          "name": "stdout",
          "text": [
            "1909\n",
            "27\n",
            "0.7507185185185187\n",
            "Weekday                       count               \n",
            "Sat                           1                   \n",
            "Fri                           20                  \n",
            "Thu                           6                   \n",
            "Email id                                          count                                             \n",
            "stephen.marquard@uct.ac.za                        2                                                 \n",
            "louis@media.berkeley.edu                          3                                                 \n",
            "zqian@umich.edu                                   4                                                 \n",
            "rjlowe@iupui.edu                                  2                                                 \n",
            "cwen@iupui.edu                                    5                                                 \n",
            "gsilver@umich.edu                                 3                                                 \n",
            "wagnermr@iupui.edu                                1                                                 \n",
            "antranig@caret.cam.ac.uk                          1                                                 \n",
            "gopal.ramasammycook@gmail.com                     1                                                 \n",
            "david.horwitz@uct.ac.za                           4                                                 \n",
            "ray@media.berkeley.edu                            1                                                 \n",
            "Domain name                                       count                                             \n",
            "uct.ac.za                                         6                                                 \n",
            "media.berkeley.edu                                4                                                 \n",
            "umich.edu                                         7                                                 \n",
            "iupui.edu                                         8                                                 \n",
            "caret.cam.ac.uk                                   1                                                 \n",
            "gmail.com                                         1                                                 \n"
          ]
        }
      ]
    },
    {
      "cell_type": "code",
      "source": [
        "def number_of_lines():\n",
        "    with open(\"/content/emailchurn.txt\") as f:# open the file\n",
        "        rf = f.read()           #read the contents of the file\n",
        "        c = 0                   #count =0\n",
        "        for line in rf:\n",
        "            if line == \"\\n\":      # new line\n",
        "                c+=1              #increament the count\n",
        "        return c                  #return count\n",
        "res = number_of_lines()\n",
        "print(res) \n",
        "\n",
        "def count_number_of_lines():\n",
        "    with open(\"/mbox.txt\") as f: #open the file\n",
        "        c = 0         # count is equal to zero\n",
        "        for line in f:\n",
        "            if line.startswith('Subject:'):  #startswith() method returns True if a string starts with the specified prefix(string). If not, it returns False.\n",
        "                c+=1\n",
        "    return c\n",
        "\n",
        "def average_spam_confidence():\n",
        "    with open(\"/content/emailchurn.txt\") as f:    #open the file\n",
        "        c = 0\n",
        "        sum = 0\n",
        "        for line in f:\n",
        "            if line.startswith(\"X-DSPAM-Confidence:\"):    # line starting with x-DSPAM confidance\n",
        "                c+=1\n",
        "                sline = line.split()   #The split() method splits a string into a list\n",
        "                sum+=float(sline[1])\n",
        "        return sum/c\n",
        "res = average_spam_confidence()\n",
        "print(res)\n",
        "\n",
        "def find_email_sent_days():\n",
        "    with open(\"/content/emailchurn.txt\") as f:\n",
        "        cmon = 0\n",
        "        ctue = 0\n",
        "        cwed = 0\n",
        "        cthu = 0\n",
        "        cfri = 0\n",
        "        csat = 0\n",
        "        csun = 0\n",
        "        dic = {}\n",
        "        for line in f:\n",
        "            if line.startswith(\"From\"):\n",
        "                sline = line.split()\n",
        "                try:\n",
        "                    day = sline[2]\n",
        "                    if day == 'Mon':\n",
        "                        cmon+=1\n",
        "                    elif day == 'Tue':\n",
        "                        ctue+=1\n",
        "                    elif day == 'Wed':\n",
        "                        cwed+=1\n",
        "                    elif day == 'Thu':\n",
        "                        cthu+=1\n",
        "                    elif day == 'Fri':\n",
        "                        cfri+=1\n",
        "                    elif day == 'Sat':\n",
        "                        csat+=1\n",
        "                    else:\n",
        "                        csun+=1\n",
        "                except:\n",
        "                    continue\n",
        "        l = [cmon,ctue,cwed,cthu,cfri,csat,csun]\n",
        "        if cmon != 0:\n",
        "            dic['Mon'] = cmon\n",
        "        if ctue != 0:\n",
        "            dic['Tue'] = ctue\n",
        "        if cwed != 0:\n",
        "            dic['Wed'] = cwed\n",
        "        if cthu != 0:\n",
        "            dic['Thu'] = cthu\n",
        "        if cfri != 0:\n",
        "            dic['Fri'] = cfri\n",
        "        if csat != 0:\n",
        "            dic['Sat'] = csat\n",
        "        if csun != 0:\n",
        "            dic['Sun'] = csun\n",
        "        return(dic)\n",
        "\n",
        "print(find_email_sent_days())\n",
        "\n",
        "def count_message_from_email():\n",
        "    emaildict={}\n",
        "    fhand=open(\"/content/emailchurn.txt\")\n",
        "    for line in fhand:\n",
        "        line = line.rstrip()\n",
        "        if line.startswith('From:'):\n",
        "            email = line.split(' ')[1]\n",
        "            print(email)\n",
        "            if email not in emaildict:\n",
        "                emaildict[email] = 1\n",
        "            else:\n",
        "                emaildict[email]+=1\n",
        "    return emaildict\n",
        "\n",
        "def count_message_from_domain():\n",
        "    domaindict = {}\n",
        "    f = open(\"/content/emailchurn.txt\")\n",
        "    for line in f:\n",
        "        line = line.rstrip()\n",
        "        if line.startswith('From:'):\n",
        "            position = line.find('@')\n",
        "            end_pos = line.find(' ',position)\n",
        "            if end_pos == -1:\n",
        "                domain = line[position+1:]\n",
        "            else:\n",
        "                domain = line[position+1: end_pos]\n",
        "            if domain not in domaindict:\n",
        "                domaindict[domain]=1\n",
        "            else:\n",
        "                domaindict[domain]+=1\n",
        "    return domaindict"
      ],
      "metadata": {
        "colab": {
          "base_uri": "https://localhost:8080/"
        },
        "id": "IrJu1Jx827oD",
        "outputId": "c13e095a-7945-4b2d-f7aa-74591ee83633"
      },
      "execution_count": null,
      "outputs": [
        {
          "output_type": "stream",
          "name": "stdout",
          "text": [
            "1909\n",
            "0.7507185185185187\n",
            "{'Thu': 6, 'Fri': 20, 'Sat': 1}\n"
          ]
        }
      ]
    },
    {
      "cell_type": "markdown",
      "source": [],
      "metadata": {
        "id": "EAfXcQfm3lqi"
      }
    }
  ]
}