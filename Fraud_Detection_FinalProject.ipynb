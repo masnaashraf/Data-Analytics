{
 "cells": [
  {
   "cell_type": "markdown",
   "metadata": {
    "id": "tL1LkYGKQvVm"
   },
   "source": [
    "# Problem Statement\n",
    "\n",
    "Using a fraud_dataset predict whether the customer will be defaulters or not."
   ]
  },
  {
   "cell_type": "markdown",
   "metadata": {
    "id": "DwL1gS3CFo1f"
   },
   "source": [
    "# Importing Libraries"
   ]
  },
  {
   "cell_type": "code",
   "execution_count": 1,
   "metadata": {
    "id": "PkZ7N6vM9lz3"
   },
   "outputs": [],
   "source": [
    "import numpy as np \n",
    "import pandas as pd \n",
    "import matplotlib.pyplot as plt\n",
    "import seaborn as sns\n",
    "import warnings\n",
    "warnings.filterwarnings('ignore')"
   ]
  },
  {
   "cell_type": "markdown",
   "metadata": {
    "id": "lAZ_wo7EFrvm"
   },
   "source": [
    "# Importing CSV file"
   ]
  },
  {
   "cell_type": "code",
   "execution_count": 3,
   "metadata": {
    "id": "C0zJvgP39tLl"
   },
   "outputs": [],
   "source": [
    "df = pd.read_csv(\"fraud_dataset.csv\")"
   ]
  },
  {
   "cell_type": "markdown",
   "metadata": {
    "id": "tYGnwwQlF2HZ"
   },
   "source": [
    "# **Analysing the Data**"
   ]
  },
  {
   "cell_type": "code",
   "execution_count": 4,
   "metadata": {
    "colab": {
     "base_uri": "https://localhost:8080/",
     "height": 270
    },
    "id": "4HztMC4g96db",
    "outputId": "e96f8df3-0b2a-47d2-c2ce-392a79cc33b8"
   },
   "outputs": [
    {
     "data": {
      "text/html": [
       "\n",
       "  <div id=\"df-77759bb7-7005-4b78-b12d-69dfd995cd05\">\n",
       "    <div class=\"colab-df-container\">\n",
       "      <div>\n",
       "<style scoped>\n",
       "    .dataframe tbody tr th:only-of-type {\n",
       "        vertical-align: middle;\n",
       "    }\n",
       "\n",
       "    .dataframe tbody tr th {\n",
       "        vertical-align: top;\n",
       "    }\n",
       "\n",
       "    .dataframe thead th {\n",
       "        text-align: right;\n",
       "    }\n",
       "</style>\n",
       "<table border=\"1\" class=\"dataframe\">\n",
       "  <thead>\n",
       "    <tr style=\"text-align: right;\">\n",
       "      <th></th>\n",
       "      <th>Gender</th>\n",
       "      <th>Married</th>\n",
       "      <th>Dependents</th>\n",
       "      <th>Education</th>\n",
       "      <th>Self_Employed</th>\n",
       "      <th>ApplicantIncome</th>\n",
       "      <th>CoapplicantIncome</th>\n",
       "      <th>LoanAmount</th>\n",
       "      <th>Loan_Term</th>\n",
       "      <th>Credit_History_Available</th>\n",
       "      <th>Housing</th>\n",
       "      <th>Locality</th>\n",
       "      <th>Fraud_Risk</th>\n",
       "    </tr>\n",
       "  </thead>\n",
       "  <tbody>\n",
       "    <tr>\n",
       "      <th>0</th>\n",
       "      <td>1</td>\n",
       "      <td>0</td>\n",
       "      <td>0</td>\n",
       "      <td>1</td>\n",
       "      <td>0</td>\n",
       "      <td>5849</td>\n",
       "      <td>0</td>\n",
       "      <td>146</td>\n",
       "      <td>360</td>\n",
       "      <td>1</td>\n",
       "      <td>1</td>\n",
       "      <td>1</td>\n",
       "      <td>0</td>\n",
       "    </tr>\n",
       "    <tr>\n",
       "      <th>1</th>\n",
       "      <td>1</td>\n",
       "      <td>1</td>\n",
       "      <td>1</td>\n",
       "      <td>1</td>\n",
       "      <td>1</td>\n",
       "      <td>4583</td>\n",
       "      <td>1508</td>\n",
       "      <td>128</td>\n",
       "      <td>360</td>\n",
       "      <td>1</td>\n",
       "      <td>1</td>\n",
       "      <td>3</td>\n",
       "      <td>1</td>\n",
       "    </tr>\n",
       "    <tr>\n",
       "      <th>2</th>\n",
       "      <td>1</td>\n",
       "      <td>1</td>\n",
       "      <td>0</td>\n",
       "      <td>1</td>\n",
       "      <td>1</td>\n",
       "      <td>3000</td>\n",
       "      <td>0</td>\n",
       "      <td>66</td>\n",
       "      <td>360</td>\n",
       "      <td>1</td>\n",
       "      <td>1</td>\n",
       "      <td>1</td>\n",
       "      <td>1</td>\n",
       "    </tr>\n",
       "    <tr>\n",
       "      <th>3</th>\n",
       "      <td>1</td>\n",
       "      <td>1</td>\n",
       "      <td>0</td>\n",
       "      <td>0</td>\n",
       "      <td>1</td>\n",
       "      <td>2583</td>\n",
       "      <td>2358</td>\n",
       "      <td>120</td>\n",
       "      <td>360</td>\n",
       "      <td>1</td>\n",
       "      <td>1</td>\n",
       "      <td>1</td>\n",
       "      <td>1</td>\n",
       "    </tr>\n",
       "    <tr>\n",
       "      <th>4</th>\n",
       "      <td>1</td>\n",
       "      <td>0</td>\n",
       "      <td>0</td>\n",
       "      <td>1</td>\n",
       "      <td>0</td>\n",
       "      <td>6000</td>\n",
       "      <td>0</td>\n",
       "      <td>141</td>\n",
       "      <td>360</td>\n",
       "      <td>1</td>\n",
       "      <td>1</td>\n",
       "      <td>1</td>\n",
       "      <td>0</td>\n",
       "    </tr>\n",
       "  </tbody>\n",
       "</table>\n",
       "</div>\n",
       "      <button class=\"colab-df-convert\" onclick=\"convertToInteractive('df-77759bb7-7005-4b78-b12d-69dfd995cd05')\"\n",
       "              title=\"Convert this dataframe to an interactive table.\"\n",
       "              style=\"display:none;\">\n",
       "        \n",
       "  <svg xmlns=\"http://www.w3.org/2000/svg\" height=\"24px\"viewBox=\"0 0 24 24\"\n",
       "       width=\"24px\">\n",
       "    <path d=\"M0 0h24v24H0V0z\" fill=\"none\"/>\n",
       "    <path d=\"M18.56 5.44l.94 2.06.94-2.06 2.06-.94-2.06-.94-.94-2.06-.94 2.06-2.06.94zm-11 1L8.5 8.5l.94-2.06 2.06-.94-2.06-.94L8.5 2.5l-.94 2.06-2.06.94zm10 10l.94 2.06.94-2.06 2.06-.94-2.06-.94-.94-2.06-.94 2.06-2.06.94z\"/><path d=\"M17.41 7.96l-1.37-1.37c-.4-.4-.92-.59-1.43-.59-.52 0-1.04.2-1.43.59L10.3 9.45l-7.72 7.72c-.78.78-.78 2.05 0 2.83L4 21.41c.39.39.9.59 1.41.59.51 0 1.02-.2 1.41-.59l7.78-7.78 2.81-2.81c.8-.78.8-2.07 0-2.86zM5.41 20L4 18.59l7.72-7.72 1.47 1.35L5.41 20z\"/>\n",
       "  </svg>\n",
       "      </button>\n",
       "      \n",
       "  <style>\n",
       "    .colab-df-container {\n",
       "      display:flex;\n",
       "      flex-wrap:wrap;\n",
       "      gap: 12px;\n",
       "    }\n",
       "\n",
       "    .colab-df-convert {\n",
       "      background-color: #E8F0FE;\n",
       "      border: none;\n",
       "      border-radius: 50%;\n",
       "      cursor: pointer;\n",
       "      display: none;\n",
       "      fill: #1967D2;\n",
       "      height: 32px;\n",
       "      padding: 0 0 0 0;\n",
       "      width: 32px;\n",
       "    }\n",
       "\n",
       "    .colab-df-convert:hover {\n",
       "      background-color: #E2EBFA;\n",
       "      box-shadow: 0px 1px 2px rgba(60, 64, 67, 0.3), 0px 1px 3px 1px rgba(60, 64, 67, 0.15);\n",
       "      fill: #174EA6;\n",
       "    }\n",
       "\n",
       "    [theme=dark] .colab-df-convert {\n",
       "      background-color: #3B4455;\n",
       "      fill: #D2E3FC;\n",
       "    }\n",
       "\n",
       "    [theme=dark] .colab-df-convert:hover {\n",
       "      background-color: #434B5C;\n",
       "      box-shadow: 0px 1px 3px 1px rgba(0, 0, 0, 0.15);\n",
       "      filter: drop-shadow(0px 1px 2px rgba(0, 0, 0, 0.3));\n",
       "      fill: #FFFFFF;\n",
       "    }\n",
       "  </style>\n",
       "\n",
       "      <script>\n",
       "        const buttonEl =\n",
       "          document.querySelector('#df-77759bb7-7005-4b78-b12d-69dfd995cd05 button.colab-df-convert');\n",
       "        buttonEl.style.display =\n",
       "          google.colab.kernel.accessAllowed ? 'block' : 'none';\n",
       "\n",
       "        async function convertToInteractive(key) {\n",
       "          const element = document.querySelector('#df-77759bb7-7005-4b78-b12d-69dfd995cd05');\n",
       "          const dataTable =\n",
       "            await google.colab.kernel.invokeFunction('convertToInteractive',\n",
       "                                                     [key], {});\n",
       "          if (!dataTable) return;\n",
       "\n",
       "          const docLinkHtml = 'Like what you see? Visit the ' +\n",
       "            '<a target=\"_blank\" href=https://colab.research.google.com/notebooks/data_table.ipynb>data table notebook</a>'\n",
       "            + ' to learn more about interactive tables.';\n",
       "          element.innerHTML = '';\n",
       "          dataTable['output_type'] = 'display_data';\n",
       "          await google.colab.output.renderOutput(dataTable, element);\n",
       "          const docLink = document.createElement('div');\n",
       "          docLink.innerHTML = docLinkHtml;\n",
       "          element.appendChild(docLink);\n",
       "        }\n",
       "      </script>\n",
       "    </div>\n",
       "  </div>\n",
       "  "
      ],
      "text/plain": [
       "   Gender  Married  Dependents  Education  Self_Employed  ApplicantIncome  \\\n",
       "0       1        0           0          1              0             5849   \n",
       "1       1        1           1          1              1             4583   \n",
       "2       1        1           0          1              1             3000   \n",
       "3       1        1           0          0              1             2583   \n",
       "4       1        0           0          1              0             6000   \n",
       "\n",
       "   CoapplicantIncome  LoanAmount  Loan_Term  Credit_History_Available  \\\n",
       "0                  0         146        360                         1   \n",
       "1               1508         128        360                         1   \n",
       "2                  0          66        360                         1   \n",
       "3               2358         120        360                         1   \n",
       "4                  0         141        360                         1   \n",
       "\n",
       "   Housing  Locality  Fraud_Risk  \n",
       "0        1         1           0  \n",
       "1        1         3           1  \n",
       "2        1         1           1  \n",
       "3        1         1           1  \n",
       "4        1         1           0  "
      ]
     },
     "execution_count": 4,
     "metadata": {},
     "output_type": "execute_result"
    }
   ],
   "source": [
    "df.head()"
   ]
  },
  {
   "cell_type": "code",
   "execution_count": null,
   "metadata": {},
   "outputs": [],
   "source": [
    "#checking number of rows and columns"
   ]
  },
  {
   "cell_type": "code",
   "execution_count": 4,
   "metadata": {
    "colab": {
     "base_uri": "https://localhost:8080/"
    },
    "id": "ZdqH4-dM97xn",
    "outputId": "b3372562-066a-41a6-cdaf-fcc1da2b104b"
   },
   "outputs": [
    {
     "data": {
      "text/plain": [
       "(827, 13)"
      ]
     },
     "execution_count": 4,
     "metadata": {},
     "output_type": "execute_result"
    }
   ],
   "source": [
    "df.shape"
   ]
  },
  {
   "cell_type": "code",
   "execution_count": 5,
   "metadata": {
    "colab": {
     "base_uri": "https://localhost:8080/"
    },
    "id": "j_m1UW99-6Yn",
    "outputId": "88d28827-6dc7-4dcd-c068-ff84680cd30f"
   },
   "outputs": [
    {
     "name": "stdout",
     "output_type": "stream",
     "text": [
      "<class 'pandas.core.frame.DataFrame'>\n",
      "RangeIndex: 827 entries, 0 to 826\n",
      "Data columns (total 13 columns):\n",
      " #   Column                    Non-Null Count  Dtype\n",
      "---  ------                    --------------  -----\n",
      " 0   Gender                    827 non-null    int64\n",
      " 1   Married                   827 non-null    int64\n",
      " 2   Dependents                827 non-null    int64\n",
      " 3   Education                 827 non-null    int64\n",
      " 4   Self_Employed             827 non-null    int64\n",
      " 5   ApplicantIncome           827 non-null    int64\n",
      " 6   CoapplicantIncome         827 non-null    int64\n",
      " 7   LoanAmount                827 non-null    int64\n",
      " 8   Loan_Term                 827 non-null    int64\n",
      " 9   Credit_History_Available  827 non-null    int64\n",
      " 10  Housing                   827 non-null    int64\n",
      " 11  Locality                  827 non-null    int64\n",
      " 12  Fraud_Risk                827 non-null    int64\n",
      "dtypes: int64(13)\n",
      "memory usage: 84.1 KB\n"
     ]
    }
   ],
   "source": [
    "df.info()"
   ]
  },
  {
   "cell_type": "code",
   "execution_count": null,
   "metadata": {},
   "outputs": [],
   "source": [
    "#this is a classification problem .Trying to get percentage of defaulters and non defaulter"
   ]
  },
  {
   "cell_type": "code",
   "execution_count": 8,
   "metadata": {
    "colab": {
     "base_uri": "https://localhost:8080/"
    },
    "id": "2futPx8N-QsB",
    "outputId": "2a0bb84b-de5c-4139-898e-cd370d0a9db7"
   },
   "outputs": [
    {
     "name": "stdout",
     "output_type": "stream",
     "text": [
      "percentage of non Fraud Risk = 42.32\n",
      "percentage of Fraud Risk = 57.68\n"
     ]
    }
   ],
   "source": [
    "count_fraud = len(df[df['Fraud_Risk']==1])\n",
    "count_non_fraud = len(df[df['Fraud_Risk']==0])\n",
    "non_fraud = count_non_fraud/(count_non_fraud +count_fraud)\n",
    "print(\"percentage of non Fraud Risk =\", round(non_fraud*100,2))\n",
    "fraud = count_fraud/(count_non_fraud +count_fraud)\n",
    "print(\"percentage of Fraud Risk =\", round(fraud*100,2))"
   ]
  },
  {
   "cell_type": "code",
   "execution_count": 10,
   "metadata": {},
   "outputs": [
    {
     "data": {
      "image/png": "[encoded data removed]",
      "text/plain": [
       "<Figure size 432x288 with 1 Axes>"
      ]
     },
     "metadata": {
      "needs_background": "light"
     },
     "output_type": "display_data"
    }
   ],
   "source": [
    "sns.countplot(x='Fraud_Risk',data=df)\n",
    "plt.show()"
   ]
  },
  {
   "cell_type": "markdown",
   "metadata": {
    "id": "_y6oAHCtGW7L"
   },
   "source": [
    "# Data Cleaning "
   ]
  },
  {
   "cell_type": "code",
   "execution_count": 6,
   "metadata": {
    "colab": {
     "base_uri": "https://localhost:8080/"
    },
    "id": "GOqhfttCGX0p",
    "outputId": "5fddedc2-3e55-4747-eac9-f89d9a66348a"
   },
   "outputs": [
    {
     "data": {
      "text/plain": [
       "Gender                      0\n",
       "Married                     0\n",
       "Dependents                  0\n",
       "Education                   0\n",
       "Self_Employed               0\n",
       "ApplicantIncome             0\n",
       "CoapplicantIncome           0\n",
       "LoanAmount                  0\n",
       "Loan_Term                   0\n",
       "Credit_History_Available    0\n",
       "Housing                     0\n",
       "Locality                    0\n",
       "Fraud_Risk                  0\n",
       "dtype: int64"
      ]
     },
     "execution_count": 6,
     "metadata": {},
     "output_type": "execute_result"
    }
   ],
   "source": [
    "df.isna().sum()"
   ]
  },
  {
   "cell_type": "code",
   "execution_count": null,
   "metadata": {},
   "outputs": [],
   "source": [
    "#no missing value is seen"
   ]
  },
  {
   "cell_type": "markdown",
   "metadata": {
    "id": "K_4saNCKGvAm"
   },
   "source": [
    "# Exploratory Data Analysis"
   ]
  },
  {
   "cell_type": "code",
   "execution_count": null,
   "metadata": {},
   "outputs": [],
   "source": [
    "#finding correlation with help of heat map"
   ]
  },
  {
   "cell_type": "code",
   "execution_count": 11,
   "metadata": {
    "colab": {
     "base_uri": "https://localhost:8080/",
     "height": 995
    },
    "id": "j3v7LIR4_igt",
    "outputId": "912aade5-394e-4a10-d415-ca4430ff8e0f"
   },
   "outputs": [
    {
     "data": {
      "text/plain": [
       "<matplotlib.axes._subplots.AxesSubplot at 0x8a61d9eac8>"
      ]
     },
     "execution_count": 11,
     "metadata": {},
     "output_type": "execute_result"
    },
    {
     "data": {
      "image/png": "[encoded data removed]",
      "text/plain": [
       "<Figure size 1440x1080 with 2 Axes>"
      ]
     },
     "metadata": {
      "needs_background": "light"
     },
     "output_type": "display_data"
    }
   ],
   "source": [
    "corr=df.corr()\n",
    "plt.subplots(figsize=(20,15))\n",
    "sns.heatmap(corr,annot=True,cmap=\"YlGnBu\")"
   ]
  },
  {
   "cell_type": "code",
   "execution_count": 12,
   "metadata": {
    "colab": {
     "base_uri": "https://localhost:8080/"
    },
    "id": "XzyO2bF7_9Ou",
    "outputId": "e3241b61-3317-4187-9e5f-2921da4ba70e"
   },
   "outputs": [
    {
     "data": {
      "text/plain": [
       "Gender                      0.309570\n",
       "Married                     0.825064\n",
       "Dependents                  0.315421\n",
       "Education                  -0.037406\n",
       "Self_Employed               0.688170\n",
       "ApplicantIncome             0.066347\n",
       "CoapplicantIncome           0.120304\n",
       "LoanAmount                  0.164087\n",
       "Loan_Term                  -0.097339\n",
       "Credit_History_Available   -0.239512\n",
       "Housing                    -0.082534\n",
       "Locality                   -0.030530\n",
       "Fraud_Risk                  1.000000\n",
       "Name: Fraud_Risk, dtype: float64"
      ]
     },
     "execution_count": 12,
     "metadata": {},
     "output_type": "execute_result"
    }
   ],
   "source": [
    "cor= corr['Fraud_Risk']\n",
    "cor"
   ]
  },
  {
   "cell_type": "code",
   "execution_count": 10,
   "metadata": {
    "colab": {
     "base_uri": "https://localhost:8080/",
     "height": 485
    },
    "id": "pN8wGgsTHcy4",
    "outputId": "13f2745d-125b-4545-bf22-1b0b5c9a655a"
   },
   "outputs": [
    {
     "data": {
      "image/png": "[encoded data removed]",
      "text/plain": [
       "<Figure size 864x432 with 1 Axes>"
      ]
     },
     "metadata": {
      "needs_background": "light"
     },
     "output_type": "display_data"
    }
   ],
   "source": [
    "plt.figure(figsize=(12,6))\n",
    "cor.plot(kind=\"bar\")\n",
    "plt.show()"
   ]
  },
  {
   "cell_type": "code",
   "execution_count": null,
   "metadata": {
    "id": "lbImQKpsH88i"
   },
   "outputs": [],
   "source": [
    "**Observation**\n",
    "There is a  positive correlation between 'Married' & 'Self_Employed' with  target variable 'Fraud_Risk'\n",
    "that is from the given data being married and self employed , chances of being a defaulter is more.\n"
   ]
  },
  {
   "cell_type": "code",
   "execution_count": 11,
   "metadata": {
    "colab": {
     "base_uri": "https://localhost:8080/"
    },
    "id": "hhtpT9sGBEM2",
    "outputId": "6346e3ff-da8c-460f-f909-fbeb106e9507"
   },
   "outputs": [
    {
     "data": {
      "text/plain": [
       "Index(['Gender', 'Married', 'Dependents', 'Education', 'Self_Employed',\n",
       "       'ApplicantIncome', 'CoapplicantIncome', 'LoanAmount', 'Loan_Term',\n",
       "       'Credit_History_Available', 'Housing', 'Locality', 'Fraud_Risk'],\n",
       "      dtype='object')"
      ]
     },
     "execution_count": 11,
     "metadata": {},
     "output_type": "execute_result"
    }
   ],
   "source": [
    "col= df.columns\n",
    "col"
   ]
  },
  {
   "cell_type": "code",
   "execution_count": 13,
   "metadata": {},
   "outputs": [
    {
     "name": "stdout",
     "output_type": "stream",
     "text": [
      "Gender :  [1 0]\n",
      "Married :  [0 1]\n",
      "Dependents :  [0 1 2 3]\n",
      "Education :  [1 0]\n",
      "Self_Employed :  [0 1]\n",
      "ApplicantIncome :  [ 5849  4583  3000  2583  6000  5417  2333  3036  4006 12841  3200  2500\n",
      "  3073  1853  1299  4950  3596  3510  4887  2600  7660  5955  3365  3717\n",
      "  9560  2799  4226  1442  3750  4166  3167  4692  3500 12500  2275  1828\n",
      "  3667  3748  3600  1800  2400  3941  4695  3410  5649  5821  2645  4000\n",
      "  1928  3086  4230  4616 11500  2708  2132  3366  8080  3357  3029  2609\n",
      "  4945  5726 10750  7100  4300  3208  1875  4755  5266  1000  3333  3846\n",
      "  2395  1378  3988  2366  8566  5695  2958  6250  3273  4133  3620  6782\n",
      "  2484  1977  4188  1759  4288  4843 13650  4652  3816  3052 11417  7333\n",
      "  3800  2071  5316  2929  3572  7451  5050 14583  2214  5568 10408  5667\n",
      "  2137  2957  3692 23803  3865 10513  6080 20166  2014  2718  3459  4895\n",
      "  3316 14999  4200  5042  6950  2698 11757  2330 14866  1538 10000  4860\n",
      "  6277  2577  9166  2281  3254 39999  9538  2980  1863  7933  3089  4167\n",
      "  9323  3707  2439  2237  8000  1820 51763  3522  5708  4344  3497  2045\n",
      "  5516  6400  1916  4600 33846  3625 39147  2178  2383   674  9328  4885\n",
      " 12000  6033  3858  4191  3125  8333  1907  3416 11000  4923  3992  3917\n",
      "  4408  3244  3975  2479  3418  3430  7787  5703  3173  3850   150  3727\n",
      "  5000  4283  2221  4009  2971  7578  3250  4735  4758  2491  3716  3189\n",
      "  3155  5500  5746  3463  3812  3315  5819  2510  2965  3406  6050  9703\n",
      "  6608  2882  1809  1668  3427  2661 16250  3083  6045  5250 14683  4931\n",
      "  6083  2060  3481  7200  5166  4095  4708  4333  2876  3237 11146  2833\n",
      "  2620  3900  2750  3993  3103  4100  4053  3927  2301  1811 20667  3158\n",
      "  3704  4124  9508  3075  4400  3153  4416  6875  4666  2875  1625  2000\n",
      "  3762 20233  7667  2917  2927  2507  2473  3399  2058  3541  4342  3601\n",
      "  3166 15000  8666  4917  5818  4384  2935 63337  9833  5503  1830  4160\n",
      "  2647  2378  4554  2499  3523  6333  2625  9083  8750  2666  2423  3813\n",
      "  3875  5167  4723  4750  3013  6822  6216  5124  6325 19730 15759  5185\n",
      "  3062  2764  4817  4310  3069  5391  5941  7167  4566  2346  3010  5488\n",
      "  9167  9504  1993  3100  3276  3180  3033  3902  1500  2889  2755  1963\n",
      "  7441  4547  2167  2213  8300 81000  3867  6256  6096  2253  2149  2995\n",
      "  1600  1025  3246  5829  2720  7250 14880  4606  5935  2920  2717  8624\n",
      "  6500 12876  2425 10047  1926 10416  7142  3660  7901  4707 37719  3466\n",
      "  3539  3340  2769  2309  1958  3948  2483  7085  3859  4301  3708  4354\n",
      "  8334  2083  7740  3015  5191  2947 16692   210  3450  2653  4691  5532\n",
      " 16525  6700  2873 16667  4350  3095 10833  3547 18333  2435  2699  5333\n",
      "  3691 17263  3597  3326  4625  2895  6283   645  3159  4865  4050  3814\n",
      " 20833  3583 13262  3598  6065  3283  2130  5815  2031  3074  4683  3400\n",
      "  2192  5677  7948  4680 17500  3775  5285  2679  6783  4281  3588 11250\n",
      " 18165  2550  6133  3617  6417  4608  2138  3652  2239  3017  2768  3358\n",
      "  2526  2785  6633  2492  2454  3593  5468  2667 10139  3887  4180  3675\n",
      " 19484  5923  5800  8799  4467  3417  5116 16666  6125  6406  3087  3229\n",
      "  1782  3182  6540  1836  1880  2787  2297  2165  2726  9357 16120  3833\n",
      "  6383  2987  9963  5780   416  2894  3676  3987  3232  2900  4106  8072\n",
      "  7583  7364  3615  3084  4987  8418  3884  2561  2829  4485  3215  4998\n",
      "  3185  5587  5154  4788  3889  4774  2621  3757 10564 15363  8015  1936\n",
      "  6838  3282  2164  3391  2843  2282  3511  3674  2932  4245  2779  3663\n",
      "  2954  8785  3894  2582  3224  3790  3245  2993  2936  6787  3163  3154\n",
      "  2908  3022  3820  3160  4016  5951  2240  4161  4362  3651  2941  5905\n",
      "  2975  5001  2964  4353  7057  4937  2781  2429  2144  3473  3839  3085\n",
      "  3999  4127 11829  3413  5207  4993  3696 20805  3752  3670  3130 18996\n",
      "  3796  2480  2891  2741  5064  8748  4754  3594  2663  4227  4919  3803\n",
      "  9489  6926 13794  5073  2949  2504  2776  2125  3266  5505  9814  4150\n",
      "  4374  4954  4668  2073 16006  3213  2714  5320  2544  6868  4757  3186\n",
      "  2867  1807 35632  5437  4439  1742  2925  4407 15197  3214  2553  3611\n",
      "  4352  3940  4999  5431  2322  4216  2539  4042  2505  7366  2628  2549\n",
      "  3766  2503  2278 16390  3211  3183  3994  2482  4777  2904  4988  3818\n",
      " 17024  2189  4836  9910  3740  2485  2737  2307  2934  2922  9750  2692\n",
      "  3557 10237  5860  3986  2704  4026  3821  5929  3747  2989  3825  2872\n",
      "  8596  3664  4921  3847]\n",
      "CoapplicantIncome :  [    0  1508  2358  4196  1516  2504  1526 10968   700  1840  8106  2840\n",
      "  1086  3500  5625  1911  1917  2925  2253  1040  2083  3369  1667  3000\n",
      "  2067  1330  1459  7210  1668  1213  2336  3440  2275  1644  1167  1591\n",
      "  2200  2250  2859  3796  3449  4595  2254  3066  1875  1774  4750  3022\n",
      "  4000  2166  1881  2531  2000  2118  4167  2900  5654  1820  2302   997\n",
      "  3541  3263  3806  3583   754  1030  1126  3600  2333  4114  2283  1398\n",
      "  2142  2667  8980  2014  1640  3850  2569  1929  7750  1430  2034  4486\n",
      "  1425  1666   830  3750  1041  1280  1447  3166  3333  1769   736  1964\n",
      "  1619 11300  1451  7250  5063  2138  5296  2583  2365  2816  2500  1083\n",
      "  1250  3021   983  1800  1775  2383  1717  2791  1010  1695  2054  2598\n",
      "  1779  1260  5000  1983  5701  1300  4417  4333  1843  1868  3890  2167\n",
      "  7101  2100  4250  2209  3447  1387  1811  1560  1857  2223  1842  3274\n",
      "  2426   800   986  3053  2416  3334  2541  2934  1750  1803  1863  2405\n",
      "  2134   189  1590  2985  4983  2160  2451  1793  1833  4490   688  4600\n",
      "  1587  1229  2330  2458  3230  2168  4583  6250   505  3167  3667  3033\n",
      "  5266  7873  1987   923  4996  4232  1600  3136  2417  2115  1625  1400\n",
      "   484 20000  2400  2033  3237  2773  1417  1719  4300    16  2340  1851\n",
      "  1125  5064  1993  8333  1210  1376  1710  1542  1255  1456  1733  2466\n",
      "  4083  2188  1664  2917  2079  1500  4648  1014  1872  1603  3150  2436\n",
      "  2785  1131  2157   913  1700  2857  4416  3683  5624  5302  1483  6667\n",
      "  3013  1287  2004  2035  6666  3666  3428  1632  1915  1742  1424  7166\n",
      "  2087  1302  5500  2042  3906   536  2845  2524   663  1950  1783  2016\n",
      "  2375  3250  4266  1032  2669  2306   242  2064   461  2210  2739  2232\n",
      " 33837  1522  3416  3300  1000 41667  2792  4301  3800  1411   240  2186\n",
      "  6241 11174  4095  1657  1806  1827  3852  1878 16040  1622  1744  2788\n",
      "  4379  2652  2425  1660  2760  2114  3008  2629  2923  2656   585  1696\n",
      "  1749  2641  2304 17848  1558  2231  2290  2022  2759  1490  8521  1747\n",
      "  2219  1894  2132  2681  2789  2750  1909  1495  2768  3612  2949  2796\n",
      "  8617  2519  1916  1723  1669  2030 13259  2817  2941  3654  1611  2838\n",
      "  1976  1808  1949  2511  1720  1556]\n",
      "LoanAmount :  [146 128  66 120 141 267  95 158 168 349  70 109 200 114  17 125 100  76\n",
      " 133 115 104 315 116 112 151 191 122 110  35 201  74 106 320 144 184  80\n",
      "  47  75 134  96  88  44 286  97 135 180  99 165 258 126 312 136 172  81\n",
      " 187 113 176 130 111 167 265  50 210 175 131 188  25 137 160 225 216  94\n",
      " 139 152 118 185 154  85 259 194  93 370 182 650 102 290  84 242 129  30\n",
      " 244 600 255  98 275 121  63 700  87 101 495  67  73 260 108  58  48 164\n",
      " 170  83  90 166 124  55  59 127 214 240  72  60 138  42 280 140 155 123\n",
      " 279 192 304 330 150 207 436  78  54  89 143 105 132 480  56 159 300 376\n",
      " 117  71 490 173  46 228 308 236 570 380 296 156 103  45  65  53 360  62\n",
      " 218 178 239 405 148 190 149 153 162 230  86 234 246 500 186 119 107 209\n",
      " 208 243  40 250 311 400 161 196 324 157 145 181  26 211   9 205  36  61\n",
      " 292 142 350 496 253 254 249 268 174  57  77  69 189 309 632 547  33 264\n",
      " 169 195 277  51  91 147  92]\n",
      "Loan_Term :  [360 120 240  12 180  60 300 480  36  84 224 109 338 306 324 346 296  68\n",
      " 159 341 323 343 316  14 476 460 418 107 337 214 281 218 328 295 465 178\n",
      " 197 404 459 466 421 160 250 215]\n",
      "Credit_History_Available :  [1 0]\n",
      "Housing :  [1 0]\n",
      "Locality :  [1 3 2]\n",
      "Fraud_Risk :  [0 1]\n"
     ]
    }
   ],
   "source": [
    "for column in df.columns[:]:\n",
    "    print(column,\": \",df[column].unique())"
   ]
  },
  {
   "cell_type": "code",
   "execution_count": 14,
   "metadata": {},
   "outputs": [
    {
     "data": {
      "text/html": [
       "<div>\n",
       "<style scoped>\n",
       "    .dataframe tbody tr th:only-of-type {\n",
       "        vertical-align: middle;\n",
       "    }\n",
       "\n",
       "    .dataframe tbody tr th {\n",
       "        vertical-align: top;\n",
       "    }\n",
       "\n",
       "    .dataframe thead th {\n",
       "        text-align: right;\n",
       "    }\n",
       "</style>\n",
       "<table border=\"1\" class=\"dataframe\">\n",
       "  <thead>\n",
       "    <tr style=\"text-align: right;\">\n",
       "      <th></th>\n",
       "      <th>Gender</th>\n",
       "      <th>Married</th>\n",
       "      <th>Dependents</th>\n",
       "      <th>Education</th>\n",
       "      <th>Self_Employed</th>\n",
       "      <th>ApplicantIncome</th>\n",
       "      <th>CoapplicantIncome</th>\n",
       "      <th>LoanAmount</th>\n",
       "      <th>Loan_Term</th>\n",
       "      <th>Credit_History_Available</th>\n",
       "      <th>Housing</th>\n",
       "      <th>Locality</th>\n",
       "      <th>Fraud_Risk</th>\n",
       "    </tr>\n",
       "  </thead>\n",
       "  <tbody>\n",
       "    <tr>\n",
       "      <th>count</th>\n",
       "      <td>827.000000</td>\n",
       "      <td>827.000000</td>\n",
       "      <td>827.000000</td>\n",
       "      <td>827.000000</td>\n",
       "      <td>827.000000</td>\n",
       "      <td>827.000000</td>\n",
       "      <td>827.000000</td>\n",
       "      <td>827.000000</td>\n",
       "      <td>827.000000</td>\n",
       "      <td>827.000000</td>\n",
       "      <td>827.000000</td>\n",
       "      <td>827.000000</td>\n",
       "      <td>827.000000</td>\n",
       "    </tr>\n",
       "    <tr>\n",
       "      <th>mean</th>\n",
       "      <td>0.733978</td>\n",
       "      <td>0.481258</td>\n",
       "      <td>0.652963</td>\n",
       "      <td>0.790810</td>\n",
       "      <td>0.574365</td>\n",
       "      <td>5212.970979</td>\n",
       "      <td>1486.050786</td>\n",
       "      <td>140.892382</td>\n",
       "      <td>338.128174</td>\n",
       "      <td>0.885127</td>\n",
       "      <td>0.654172</td>\n",
       "      <td>1.978235</td>\n",
       "      <td>0.576784</td>\n",
       "    </tr>\n",
       "    <tr>\n",
       "      <th>std</th>\n",
       "      <td>0.442143</td>\n",
       "      <td>0.499951</td>\n",
       "      <td>0.935835</td>\n",
       "      <td>0.406976</td>\n",
       "      <td>0.494738</td>\n",
       "      <td>5593.713304</td>\n",
       "      <td>2802.847983</td>\n",
       "      <td>79.820451</td>\n",
       "      <td>75.353151</td>\n",
       "      <td>0.319062</td>\n",
       "      <td>0.475925</td>\n",
       "      <td>0.771471</td>\n",
       "      <td>0.494368</td>\n",
       "    </tr>\n",
       "    <tr>\n",
       "      <th>min</th>\n",
       "      <td>0.000000</td>\n",
       "      <td>0.000000</td>\n",
       "      <td>0.000000</td>\n",
       "      <td>0.000000</td>\n",
       "      <td>0.000000</td>\n",
       "      <td>150.000000</td>\n",
       "      <td>0.000000</td>\n",
       "      <td>9.000000</td>\n",
       "      <td>12.000000</td>\n",
       "      <td>0.000000</td>\n",
       "      <td>0.000000</td>\n",
       "      <td>1.000000</td>\n",
       "      <td>0.000000</td>\n",
       "    </tr>\n",
       "    <tr>\n",
       "      <th>25%</th>\n",
       "      <td>0.000000</td>\n",
       "      <td>0.000000</td>\n",
       "      <td>0.000000</td>\n",
       "      <td>1.000000</td>\n",
       "      <td>0.000000</td>\n",
       "      <td>2894.500000</td>\n",
       "      <td>0.000000</td>\n",
       "      <td>100.000000</td>\n",
       "      <td>360.000000</td>\n",
       "      <td>1.000000</td>\n",
       "      <td>0.000000</td>\n",
       "      <td>1.000000</td>\n",
       "      <td>0.000000</td>\n",
       "    </tr>\n",
       "    <tr>\n",
       "      <th>50%</th>\n",
       "      <td>1.000000</td>\n",
       "      <td>0.000000</td>\n",
       "      <td>0.000000</td>\n",
       "      <td>1.000000</td>\n",
       "      <td>1.000000</td>\n",
       "      <td>3752.000000</td>\n",
       "      <td>0.000000</td>\n",
       "      <td>125.000000</td>\n",
       "      <td>360.000000</td>\n",
       "      <td>1.000000</td>\n",
       "      <td>1.000000</td>\n",
       "      <td>2.000000</td>\n",
       "      <td>1.000000</td>\n",
       "    </tr>\n",
       "    <tr>\n",
       "      <th>75%</th>\n",
       "      <td>1.000000</td>\n",
       "      <td>1.000000</td>\n",
       "      <td>1.000000</td>\n",
       "      <td>1.000000</td>\n",
       "      <td>1.000000</td>\n",
       "      <td>5478.000000</td>\n",
       "      <td>2177.000000</td>\n",
       "      <td>156.500000</td>\n",
       "      <td>360.000000</td>\n",
       "      <td>1.000000</td>\n",
       "      <td>1.000000</td>\n",
       "      <td>3.000000</td>\n",
       "      <td>1.000000</td>\n",
       "    </tr>\n",
       "    <tr>\n",
       "      <th>max</th>\n",
       "      <td>1.000000</td>\n",
       "      <td>1.000000</td>\n",
       "      <td>3.000000</td>\n",
       "      <td>1.000000</td>\n",
       "      <td>1.000000</td>\n",
       "      <td>81000.000000</td>\n",
       "      <td>41667.000000</td>\n",
       "      <td>700.000000</td>\n",
       "      <td>480.000000</td>\n",
       "      <td>1.000000</td>\n",
       "      <td>1.000000</td>\n",
       "      <td>3.000000</td>\n",
       "      <td>1.000000</td>\n",
       "    </tr>\n",
       "  </tbody>\n",
       "</table>\n",
       "</div>"
      ],
      "text/plain": [
       "           Gender     Married  Dependents   Education  Self_Employed  \\\n",
       "count  827.000000  827.000000  827.000000  827.000000     827.000000   \n",
       "mean     0.733978    0.481258    0.652963    0.790810       0.574365   \n",
       "std      0.442143    0.499951    0.935835    0.406976       0.494738   \n",
       "min      0.000000    0.000000    0.000000    0.000000       0.000000   \n",
       "25%      0.000000    0.000000    0.000000    1.000000       0.000000   \n",
       "50%      1.000000    0.000000    0.000000    1.000000       1.000000   \n",
       "75%      1.000000    1.000000    1.000000    1.000000       1.000000   \n",
       "max      1.000000    1.000000    3.000000    1.000000       1.000000   \n",
       "\n",
       "       ApplicantIncome  CoapplicantIncome  LoanAmount   Loan_Term  \\\n",
       "count       827.000000         827.000000  827.000000  827.000000   \n",
       "mean       5212.970979        1486.050786  140.892382  338.128174   \n",
       "std        5593.713304        2802.847983   79.820451   75.353151   \n",
       "min         150.000000           0.000000    9.000000   12.000000   \n",
       "25%        2894.500000           0.000000  100.000000  360.000000   \n",
       "50%        3752.000000           0.000000  125.000000  360.000000   \n",
       "75%        5478.000000        2177.000000  156.500000  360.000000   \n",
       "max       81000.000000       41667.000000  700.000000  480.000000   \n",
       "\n",
       "       Credit_History_Available     Housing    Locality  Fraud_Risk  \n",
       "count                827.000000  827.000000  827.000000  827.000000  \n",
       "mean                   0.885127    0.654172    1.978235    0.576784  \n",
       "std                    0.319062    0.475925    0.771471    0.494368  \n",
       "min                    0.000000    0.000000    1.000000    0.000000  \n",
       "25%                    1.000000    0.000000    1.000000    0.000000  \n",
       "50%                    1.000000    1.000000    2.000000    1.000000  \n",
       "75%                    1.000000    1.000000    3.000000    1.000000  \n",
       "max                    1.000000    1.000000    3.000000    1.000000  "
      ]
     },
     "execution_count": 14,
     "metadata": {},
     "output_type": "execute_result"
    }
   ],
   "source": [
    "df.describe()"
   ]
  },
  {
   "cell_type": "code",
   "execution_count": null,
   "metadata": {},
   "outputs": [],
   "source": [
    "columns 'ApplicantIncome', 'CoapplicantIncome', 'LoanAmount has huge variation in min and max amount so trying to plot box plot"
   ]
  },
  {
   "cell_type": "code",
   "execution_count": 16,
   "metadata": {
    "colab": {
     "base_uri": "https://localhost:8080/",
     "height": 1000
    },
    "id": "QjKTu47FCfKd",
    "outputId": "48f602a5-7798-4630-c3d0-295d2e5a7c57"
   },
   "outputs": [
    {
     "name": "stdout",
     "output_type": "stream",
     "text": [
      "******* ApplicantIncome *******\n"
     ]
    },
    {
     "data": {
      "image/png": "[encoded data removed]",
      "text/plain": [
       "<Figure size 720x288 with 1 Axes>"
      ]
     },
     "metadata": {
      "needs_background": "light"
     },
     "output_type": "display_data"
    },
    {
     "name": "stdout",
     "output_type": "stream",
     "text": [
      "******* CoapplicantIncome *******\n"
     ]
    },
    {
     "data": {
      "image/png": "[encoded data removed]",
      "text/plain": [
       "<Figure size 720x288 with 1 Axes>"
      ]
     },
     "metadata": {
      "needs_background": "light"
     },
     "output_type": "display_data"
    },
    {
     "name": "stdout",
     "output_type": "stream",
     "text": [
      "******* LoanAmount *******\n"
     ]
    },
    {
     "data": {
      "image/png": "[encoded data removed]",
      "text/plain": [
       "<Figure size 720x288 with 1 Axes>"
      ]
     },
     "metadata": {
      "needs_background": "light"
     },
     "output_type": "display_data"
    }
   ],
   "source": [
    "col= ['ApplicantIncome', 'CoapplicantIncome', 'LoanAmount']\n",
    "for var in col:\n",
    "  print(\"******* {} *******\".format(var))\n",
    "  plt.figure(figsize=(10, 4))\n",
    "  plt.subplot(1, 3, 3)\n",
    "  sns.boxplot(y= df[var])\n",
    "  plt.title('Boxplot')\n",
    "  plt.show()"
   ]
  },
  {
   "cell_type": "code",
   "execution_count": null,
   "metadata": {},
   "outputs": [],
   "source": []
  },
  {
   "cell_type": "code",
   "execution_count": null,
   "metadata": {
    "id": "KJ4rWWTXImfi"
   },
   "outputs": [],
   "source": [
    "#seperating the testing and training dataset"
   ]
  },
  {
   "cell_type": "code",
   "execution_count": 18,
   "metadata": {
    "colab": {
     "base_uri": "https://localhost:8080/"
    },
    "id": "lLqFhkJhDbNa",
    "outputId": "e9bc7a8a-ef31-4ae3-85ba-bb4e29af5309"
   },
   "outputs": [
    {
     "name": "stdout",
     "output_type": "stream",
     "text": [
      "(827, 12)\n",
      "(827,)\n"
     ]
    }
   ],
   "source": [
    "x = df.drop(['Fraud_Risk'],axis=1)\n",
    "y = df['Fraud_Risk']\n",
    "print(x.shape)\n",
    "print(y.shape)"
   ]
  },
  {
   "cell_type": "code",
   "execution_count": null,
   "metadata": {},
   "outputs": [],
   "source": [
    "#Splitting data for training and testing\n",
    "\n"
   ]
  },
  {
   "cell_type": "code",
   "execution_count": 19,
   "metadata": {
    "id": "cgm8qTM3D-Ar"
   },
   "outputs": [],
   "source": [
    "from sklearn.model_selection import train_test_split\n",
    "x_train, x_test, y_train, y_test = train_test_split(x, y, test_size=0.3, random_state=0)"
   ]
  },
  {
   "cell_type": "code",
   "execution_count": null,
   "metadata": {
    "id": "63K0NSNzJzBL"
   },
   "outputs": [],
   "source": [
    "#standardising the data"
   ]
  },
  {
   "cell_type": "code",
   "execution_count": 20,
   "metadata": {
    "colab": {
     "base_uri": "https://localhost:8080/"
    },
    "id": "xSo5sX5pEVKK",
    "outputId": "4f785ffe-ed0c-4fce-fadf-9f56d3a66565"
   },
   "outputs": [
    {
     "data": {
      "text/plain": [
       "array([[ 0.60266703, -0.97944986, -0.72775888, ...,  0.36209869,\n",
       "         0.7469615 ,  1.37422848],\n",
       "       [ 0.60266703,  1.02098131, -0.72775888, ..., -2.76167805,\n",
       "         0.7469615 ,  1.37422848],\n",
       "       [-1.65929104, -0.97944986,  0.3508171 , ...,  0.36209869,\n",
       "         0.7469615 , -1.24291834],\n",
       "       ...,\n",
       "       [-1.65929104, -0.97944986, -0.72775888, ...,  0.36209869,\n",
       "         0.7469615 ,  0.06565507],\n",
       "       [-1.65929104,  1.02098131, -0.72775888, ...,  0.36209869,\n",
       "        -1.33875708,  0.06565507],\n",
       "       [-1.65929104, -0.97944986,  0.3508171 , ...,  0.36209869,\n",
       "         0.7469615 ,  1.37422848]])"
      ]
     },
     "execution_count": 20,
     "metadata": {},
     "output_type": "execute_result"
    }
   ],
   "source": [
    "from sklearn.preprocessing import StandardScaler\n",
    "sc= StandardScaler()\n",
    "sc.fit_transform(x_train)"
   ]
  },
  {
   "cell_type": "code",
   "execution_count": 21,
   "metadata": {
    "id": "OtTlHQqvKz9p"
   },
   "outputs": [],
   "source": [
    "#Applying machine Algorithms"
   ]
  },
  {
   "cell_type": "code",
   "execution_count": 22,
   "metadata": {
    "colab": {
     "base_uri": "https://localhost:8080/"
    },
    "id": "y4PZB-uaGuVO",
    "outputId": "601a2f30-6179-44e8-807c-c5c28e9e0f8c"
   },
   "outputs": [
    {
     "data": {
      "text/plain": [
       "GaussianNB(priors=None, var_smoothing=1e-09)"
      ]
     },
     "execution_count": 22,
     "metadata": {},
     "output_type": "execute_result"
    }
   ],
   "source": [
    "# Applying GaussianNB Algorithm\n",
    "from sklearn.naive_bayes import GaussianNB\n",
    "gnb=GaussianNB()\n",
    "gnb.fit(x_train,y_train)"
   ]
  },
  {
   "cell_type": "code",
   "execution_count": 23,
   "metadata": {
    "id": "oG7PXhu9G0r3"
   },
   "outputs": [],
   "source": [
    "test_predict=gnb.predict(x_test)\n",
    "train_predict=gnb.predict(x_train)"
   ]
  },
  {
   "cell_type": "code",
   "execution_count": 24,
   "metadata": {
    "colab": {
     "base_uri": "https://localhost:8080/"
    },
    "id": "T55QFEBtG5Ve",
    "outputId": "25365cde-d997-4427-f0fc-8ae1f8b25316"
   },
   "outputs": [
    {
     "name": "stdout",
     "output_type": "stream",
     "text": [
      "0.903114186851211\n",
      "0.8995983935742972\n"
     ]
    }
   ],
   "source": [
    "Score_GNB_train=gnb.score(x_train,y_train)\n",
    "Score_GNB_test=gnb.score(x_test,y_test)\n",
    "print(Score_GNB_train)\n",
    "print(Score_GNB_test)"
   ]
  },
  {
   "cell_type": "code",
   "execution_count": 25,
   "metadata": {
    "colab": {
     "base_uri": "https://localhost:8080/"
    },
    "id": "156n8JYzHD95",
    "outputId": "e1bc27b6-7de0-459f-94a3-002e0097f740"
   },
   "outputs": [
    {
     "data": {
      "text/plain": [
       "SVC(C=1.0, break_ties=False, cache_size=200, class_weight=None, coef0=0.0,\n",
       "    decision_function_shape='ovr', degree=3, gamma='scale', kernel='rbf',\n",
       "    max_iter=-1, probability=False, random_state=None, shrinking=True,\n",
       "    tol=0.001, verbose=False)"
      ]
     },
     "execution_count": 25,
     "metadata": {},
     "output_type": "execute_result"
    }
   ],
   "source": [
    "# Applying SVC Algorithm\n",
    "from sklearn.svm import SVC\n",
    "model= SVC()\n",
    "model.fit(x_train,y_train)"
   ]
  },
  {
   "cell_type": "code",
   "execution_count": 26,
   "metadata": {
    "id": "8e8Y6lHYHJlh"
   },
   "outputs": [],
   "source": [
    "train_predict_SVC= model.predict(x_train)\n",
    "test_predict_SVC=model.predict(x_test)"
   ]
  },
  {
   "cell_type": "code",
   "execution_count": 27,
   "metadata": {
    "colab": {
     "base_uri": "https://localhost:8080/"
    },
    "id": "WngIFznTHL6X",
    "outputId": "b32e96db-4feb-4b5d-89c4-11b46ad4b2d1"
   },
   "outputs": [
    {
     "name": "stdout",
     "output_type": "stream",
     "text": [
      "0.657439446366782\n",
      "0.6104417670682731\n"
     ]
    }
   ],
   "source": [
    "Score_SVC_train=model.score(x_train,y_train)\n",
    "Score_SVC_test=model.score(x_test,y_test)\n",
    "print(Score_SVC_train)\n",
    "print(Score_SVC_test)"
   ]
  },
  {
   "cell_type": "code",
   "execution_count": 28,
   "metadata": {
    "colab": {
     "base_uri": "https://localhost:8080/"
    },
    "id": "sHwT_Ev7HRDW",
    "outputId": "789d425a-0b38-4c52-9b41-d8bb75592790"
   },
   "outputs": [
    {
     "data": {
      "text/plain": [
       "KNeighborsClassifier(algorithm='auto', leaf_size=30, metric='minkowski',\n",
       "                     metric_params=None, n_jobs=None, n_neighbors=5, p=2,\n",
       "                     weights='uniform')"
      ]
     },
     "execution_count": 28,
     "metadata": {},
     "output_type": "execute_result"
    }
   ],
   "source": [
    "# Applying KNN Algorithm\n",
    "from sklearn.neighbors import KNeighborsClassifier\n",
    "knn = KNeighborsClassifier()\n",
    "knn.fit(x_train, y_train)"
   ]
  },
  {
   "cell_type": "code",
   "execution_count": 29,
   "metadata": {
    "id": "dKlHFxLsHZYO"
   },
   "outputs": [],
   "source": [
    "test_pred_knn=knn.predict(x_test)\n",
    "train_pred_knn=knn.predict(x_train)"
   ]
  },
  {
   "cell_type": "code",
   "execution_count": 30,
   "metadata": {
    "colab": {
     "base_uri": "https://localhost:8080/"
    },
    "id": "46HuiyQkHb-0",
    "outputId": "4578f118-c29c-4bf6-bab6-a86977582c3c"
   },
   "outputs": [
    {
     "name": "stdout",
     "output_type": "stream",
     "text": [
      "0.8027681660899654\n",
      "0.6586345381526104\n"
     ]
    }
   ],
   "source": [
    "Score_KNN_train=knn.score(x_train,y_train)\n",
    "Score_KNN_test=knn.score(x_test,y_test)\n",
    "print(Score_KNN_train)\n",
    "print(Score_KNN_test)"
   ]
  },
  {
   "cell_type": "code",
   "execution_count": 31,
   "metadata": {
    "colab": {
     "base_uri": "https://localhost:8080/"
    },
    "id": "d3JCACdmHh1f",
    "outputId": "a79b0108-73b9-4445-9213-9304f08a75f2"
   },
   "outputs": [
    {
     "data": {
      "text/plain": [
       "DecisionTreeClassifier(ccp_alpha=0.0, class_weight=None, criterion='gini',\n",
       "                       max_depth=None, max_features=None, max_leaf_nodes=None,\n",
       "                       min_impurity_decrease=0.0, min_impurity_split=None,\n",
       "                       min_samples_leaf=1, min_samples_split=2,\n",
       "                       min_weight_fraction_leaf=0.0, presort='deprecated',\n",
       "                       random_state=None, splitter='best')"
      ]
     },
     "execution_count": 31,
     "metadata": {},
     "output_type": "execute_result"
    }
   ],
   "source": [
    "# Applying DecisionTree Algorithm\n",
    "from sklearn.tree import DecisionTreeClassifier\n",
    "clf=DecisionTreeClassifier()\n",
    "clf.fit(x_train,y_train)"
   ]
  },
  {
   "cell_type": "code",
   "execution_count": 32,
   "metadata": {
    "id": "DXcYstVAHmx0"
   },
   "outputs": [],
   "source": [
    "train_DT_predict= clf.predict(x_train)\n",
    "test_DT_predict=clf.predict(x_test)"
   ]
  },
  {
   "cell_type": "code",
   "execution_count": 33,
   "metadata": {
    "colab": {
     "base_uri": "https://localhost:8080/"
    },
    "id": "j7CXJW8QHpA4",
    "outputId": "51235142-f026-4e7c-e9e2-67b3aa150ff3"
   },
   "outputs": [
    {
     "name": "stdout",
     "output_type": "stream",
     "text": [
      "1.0\n",
      "0.9116465863453815\n"
     ]
    }
   ],
   "source": [
    "Score_DT_train=clf.score(x_train,y_train)\n",
    "Score_DT_test=clf.score(x_test,y_test)\n",
    "print(Score_DT_train)\n",
    "print(Score_DT_test)"
   ]
  },
  {
   "cell_type": "code",
   "execution_count": 34,
   "metadata": {
    "colab": {
     "base_uri": "https://localhost:8080/"
    },
    "id": "qiFZZfvTHuRb",
    "outputId": "8dccba1e-17bf-400f-cc0a-37db3990ac28"
   },
   "outputs": [
    {
     "data": {
      "text/plain": [
       "RandomForestClassifier(bootstrap=True, ccp_alpha=0.0, class_weight=None,\n",
       "                       criterion='gini', max_depth=None, max_features='auto',\n",
       "                       max_leaf_nodes=None, max_samples=None,\n",
       "                       min_impurity_decrease=0.0, min_impurity_split=None,\n",
       "                       min_samples_leaf=1, min_samples_split=2,\n",
       "                       min_weight_fraction_leaf=0.0, n_estimators=100,\n",
       "                       n_jobs=None, oob_score=False, random_state=None,\n",
       "                       verbose=0, warm_start=False)"
      ]
     },
     "execution_count": 34,
     "metadata": {},
     "output_type": "execute_result"
    }
   ],
   "source": [
    "# Applying RandomForest Algorithm\n",
    "from sklearn.ensemble import RandomForestClassifier\n",
    "rfc= RandomForestClassifier(n_estimators=100)\n",
    "rfc.fit(x_train,y_train)"
   ]
  },
  {
   "cell_type": "code",
   "execution_count": 35,
   "metadata": {
    "id": "ttzTpFPcH0qg"
   },
   "outputs": [],
   "source": [
    "train_predict_rfc= rfc.predict(x_train)\n",
    "test_predict_rfc=rfc.predict(x_test)"
   ]
  },
  {
   "cell_type": "code",
   "execution_count": 36,
   "metadata": {
    "colab": {
     "base_uri": "https://localhost:8080/"
    },
    "id": "pUKWUrSaH2fQ",
    "outputId": "393978aa-1f81-4597-e040-7b5904954416"
   },
   "outputs": [
    {
     "name": "stdout",
     "output_type": "stream",
     "text": [
      "1.0\n",
      "0.9397590361445783\n"
     ]
    }
   ],
   "source": [
    "Score_RFC_train=rfc.score(x_train,y_train)\n",
    "Score_RFC_test=rfc.score(x_test,y_test)\n",
    "print(Score_RFC_train)\n",
    "print(Score_RFC_test)"
   ]
  },
  {
   "cell_type": "code",
   "execution_count": 37,
   "metadata": {
    "colab": {
     "base_uri": "https://localhost:8080/"
    },
    "id": "Pr3st2xyH8aK",
    "outputId": "dde6103f-44c0-4abb-dec8-78d60062471e"
   },
   "outputs": [
    {
     "data": {
      "text/plain": [
       "LogisticRegression(C=1.0, class_weight=None, dual=False, fit_intercept=True,\n",
       "                   intercept_scaling=1, l1_ratio=None, max_iter=100,\n",
       "                   multi_class='auto', n_jobs=None, penalty='l2',\n",
       "                   random_state=50, solver='lbfgs', tol=0.0001, verbose=0,\n",
       "                   warm_start=False)"
      ]
     },
     "execution_count": 37,
     "metadata": {},
     "output_type": "execute_result"
    }
   ],
   "source": [
    "# Applying LogisticRegression Algorithm\n",
    "from sklearn.linear_model import LogisticRegression\n",
    "lg = LogisticRegression(random_state=50)\n",
    "lg.fit(x_train,y_train)"
   ]
  },
  {
   "cell_type": "code",
   "execution_count": 38,
   "metadata": {
    "id": "StRFVlvNICK9"
   },
   "outputs": [],
   "source": [
    "y_train_pred = lg.predict(x_train)\n",
    "y_test_pred = lg.predict(x_test)"
   ]
  },
  {
   "cell_type": "code",
   "execution_count": 39,
   "metadata": {
    "colab": {
     "base_uri": "https://localhost:8080/"
    },
    "id": "Jj7orbNRIHnL",
    "outputId": "b5e8be36-4959-4fa3-f531-1905a2446a8f"
   },
   "outputs": [
    {
     "name": "stdout",
     "output_type": "stream",
     "text": [
      "0.9013840830449827\n",
      "0.8674698795180723\n"
     ]
    }
   ],
   "source": [
    "Score_LR_train=lg.score(x_train,y_train)\n",
    "Score_LR_test=lg.score(x_test,y_test)\n",
    "print(Score_LR_train)\n",
    "print(Score_LR_test)"
   ]
  },
  {
   "cell_type": "code",
   "execution_count": 40,
   "metadata": {
    "colab": {
     "base_uri": "https://localhost:8080/",
     "height": 238
    },
    "id": "MoXR1bJzIMg2",
    "outputId": "3407bde9-d030-42bc-f320-b960983b1a79"
   },
   "outputs": [
    {
     "data": {
      "text/html": [
       "<div>\n",
       "<style scoped>\n",
       "    .dataframe tbody tr th:only-of-type {\n",
       "        vertical-align: middle;\n",
       "    }\n",
       "\n",
       "    .dataframe tbody tr th {\n",
       "        vertical-align: top;\n",
       "    }\n",
       "\n",
       "    .dataframe thead th {\n",
       "        text-align: right;\n",
       "    }\n",
       "</style>\n",
       "<table border=\"1\" class=\"dataframe\">\n",
       "  <thead>\n",
       "    <tr style=\"text-align: right;\">\n",
       "      <th></th>\n",
       "      <th>Model</th>\n",
       "      <th>Scores_test</th>\n",
       "      <th>Scores_train</th>\n",
       "    </tr>\n",
       "  </thead>\n",
       "  <tbody>\n",
       "    <tr>\n",
       "      <th>0</th>\n",
       "      <td>Logistic Regression</td>\n",
       "      <td>0.867470</td>\n",
       "      <td>0.901384</td>\n",
       "    </tr>\n",
       "    <tr>\n",
       "      <th>1</th>\n",
       "      <td>SVM</td>\n",
       "      <td>0.610442</td>\n",
       "      <td>0.657439</td>\n",
       "    </tr>\n",
       "    <tr>\n",
       "      <th>2</th>\n",
       "      <td>KNN</td>\n",
       "      <td>0.658635</td>\n",
       "      <td>0.802768</td>\n",
       "    </tr>\n",
       "    <tr>\n",
       "      <th>3</th>\n",
       "      <td>Decision Tree</td>\n",
       "      <td>0.911647</td>\n",
       "      <td>1.000000</td>\n",
       "    </tr>\n",
       "    <tr>\n",
       "      <th>4</th>\n",
       "      <td>Random Forest</td>\n",
       "      <td>0.939759</td>\n",
       "      <td>1.000000</td>\n",
       "    </tr>\n",
       "    <tr>\n",
       "      <th>5</th>\n",
       "      <td>Gaussian NB</td>\n",
       "      <td>0.899598</td>\n",
       "      <td>0.903114</td>\n",
       "    </tr>\n",
       "  </tbody>\n",
       "</table>\n",
       "</div>"
      ],
      "text/plain": [
       "                 Model  Scores_test  Scores_train\n",
       "0  Logistic Regression     0.867470      0.901384\n",
       "1                  SVM     0.610442      0.657439\n",
       "2                  KNN     0.658635      0.802768\n",
       "3        Decision Tree     0.911647      1.000000\n",
       "4        Random Forest     0.939759      1.000000\n",
       "5          Gaussian NB     0.899598      0.903114"
      ]
     },
     "execution_count": 40,
     "metadata": {},
     "output_type": "execute_result"
    }
   ],
   "source": [
    "from pandas.core.frame import DataFrame\n",
    "Model_Comparison = DataFrame({\n",
    "    'Model' : ['Logistic Regression','SVM','KNN','Decision Tree','Random Forest','Gaussian NB'],\n",
    "    'Scores_test': [Score_LR_test,Score_SVC_test,Score_KNN_test,Score_DT_test,Score_RFC_test,Score_GNB_test],\n",
    "    'Scores_train': [Score_LR_train,Score_SVC_train,Score_KNN_train,Score_DT_train,Score_RFC_train,Score_GNB_train]\n",
    "    })\n",
    "Model_Comparison"
   ]
  },
  {
   "cell_type": "code",
   "execution_count": 41,
   "metadata": {
    "colab": {
     "base_uri": "https://localhost:8080/",
     "height": 238
    },
    "id": "Fuq2Aya9IRVF",
    "outputId": "e78aa818-2cf1-4c0d-f483-3a68eed4db20"
   },
   "outputs": [
    {
     "data": {
      "text/html": [
       "<div>\n",
       "<style scoped>\n",
       "    .dataframe tbody tr th:only-of-type {\n",
       "        vertical-align: middle;\n",
       "    }\n",
       "\n",
       "    .dataframe tbody tr th {\n",
       "        vertical-align: top;\n",
       "    }\n",
       "\n",
       "    .dataframe thead th {\n",
       "        text-align: right;\n",
       "    }\n",
       "</style>\n",
       "<table border=\"1\" class=\"dataframe\">\n",
       "  <thead>\n",
       "    <tr style=\"text-align: right;\">\n",
       "      <th></th>\n",
       "      <th>Model</th>\n",
       "      <th>Scores_test</th>\n",
       "      <th>Scores_train</th>\n",
       "    </tr>\n",
       "  </thead>\n",
       "  <tbody>\n",
       "    <tr>\n",
       "      <th>0</th>\n",
       "      <td>Random Forest</td>\n",
       "      <td>0.939759</td>\n",
       "      <td>1.000000</td>\n",
       "    </tr>\n",
       "    <tr>\n",
       "      <th>1</th>\n",
       "      <td>Decision Tree</td>\n",
       "      <td>0.911647</td>\n",
       "      <td>1.000000</td>\n",
       "    </tr>\n",
       "    <tr>\n",
       "      <th>2</th>\n",
       "      <td>Gaussian NB</td>\n",
       "      <td>0.899598</td>\n",
       "      <td>0.903114</td>\n",
       "    </tr>\n",
       "    <tr>\n",
       "      <th>3</th>\n",
       "      <td>Logistic Regression</td>\n",
       "      <td>0.867470</td>\n",
       "      <td>0.901384</td>\n",
       "    </tr>\n",
       "    <tr>\n",
       "      <th>4</th>\n",
       "      <td>KNN</td>\n",
       "      <td>0.658635</td>\n",
       "      <td>0.802768</td>\n",
       "    </tr>\n",
       "    <tr>\n",
       "      <th>5</th>\n",
       "      <td>SVM</td>\n",
       "      <td>0.610442</td>\n",
       "      <td>0.657439</td>\n",
       "    </tr>\n",
       "  </tbody>\n",
       "</table>\n",
       "</div>"
      ],
      "text/plain": [
       "                 Model  Scores_test  Scores_train\n",
       "0        Random Forest     0.939759      1.000000\n",
       "1        Decision Tree     0.911647      1.000000\n",
       "2          Gaussian NB     0.899598      0.903114\n",
       "3  Logistic Regression     0.867470      0.901384\n",
       "4                  KNN     0.658635      0.802768\n",
       "5                  SVM     0.610442      0.657439"
      ]
     },
     "execution_count": 41,
     "metadata": {},
     "output_type": "execute_result"
    }
   ],
   "source": [
    "Model_Comparison_df = Model_Comparison.sort_values(by= 'Scores_test', ascending=False)\n",
    "Model_Comparison_df.reset_index()[Model_Comparison_df.columns]"
   ]
  },
  {
   "cell_type": "markdown",
   "metadata": {
    "id": "wr8F8IU6NfEJ"
   },
   "source": [
    "**Random Forest** is giving highest accuracy here, so generating  the classification_report and confusion Matrix for the same."
   ]
  },
  {
   "cell_type": "code",
   "execution_count": null,
   "metadata": {},
   "outputs": [],
   "source": [
    "#predicting the values using random forest"
   ]
  },
  {
   "cell_type": "code",
   "execution_count": 51,
   "metadata": {},
   "outputs": [
    {
     "data": {
      "text/plain": [
       "array([0], dtype=int64)"
      ]
     },
     "execution_count": 51,
     "metadata": {},
     "output_type": "execute_result"
    }
   ],
   "source": [
    "rfc.predict([[1,0,0,1,0,5849,0,146,360,1,1,1]])"
   ]
  },
  {
   "cell_type": "code",
   "execution_count": 53,
   "metadata": {},
   "outputs": [
    {
     "data": {
      "text/plain": [
       "array([1], dtype=int64)"
      ]
     },
     "execution_count": 53,
     "metadata": {},
     "output_type": "execute_result"
    }
   ],
   "source": [
    "rfc.predict([[1,1,1,1,1,4583,1508,128,360,1,1,3]])"
   ]
  },
  {
   "cell_type": "code",
   "execution_count": 43,
   "metadata": {
    "colab": {
     "base_uri": "https://localhost:8080/"
    },
    "id": "uLAUes2rIh4R",
    "outputId": "0378a9af-8bc1-4823-eab2-e16afa03030d"
   },
   "outputs": [
    {
     "name": "stdout",
     "output_type": "stream",
     "text": [
      "              precision    recall  f1-score   support\n",
      "\n",
      "           0       1.00      1.00      1.00       240\n",
      "           1       1.00      1.00      1.00       338\n",
      "\n",
      "    accuracy                           1.00       578\n",
      "   macro avg       1.00      1.00      1.00       578\n",
      "weighted avg       1.00      1.00      1.00       578\n",
      "\n"
     ]
    }
   ],
   "source": [
    "from sklearn.metrics import classification_report\n",
    "cr = classification_report(y_train,train_predict_rfc)\n",
    "print(cr)"
   ]
  },
  {
   "cell_type": "code",
   "execution_count": 44,
   "metadata": {
    "colab": {
     "base_uri": "https://localhost:8080/"
    },
    "id": "-QgRhB_eI8e8",
    "outputId": "50c4be46-9ec6-4871-ff60-7cf53efc3164"
   },
   "outputs": [
    {
     "name": "stdout",
     "output_type": "stream",
     "text": [
      "              precision    recall  f1-score   support\n",
      "\n",
      "           0       0.89      0.99      0.94       110\n",
      "           1       0.99      0.90      0.94       139\n",
      "\n",
      "    accuracy                           0.94       249\n",
      "   macro avg       0.94      0.95      0.94       249\n",
      "weighted avg       0.95      0.94      0.94       249\n",
      "\n"
     ]
    }
   ],
   "source": [
    "cr = classification_report(y_test,test_predict_rfc)\n",
    "print(cr)"
   ]
  },
  {
   "cell_type": "code",
   "execution_count": 45,
   "metadata": {
    "colab": {
     "base_uri": "https://localhost:8080/"
    },
    "id": "6pceFLyBJFax",
    "outputId": "07a32d17-52ee-41e4-d15f-c7c10ece8853"
   },
   "outputs": [
    {
     "data": {
      "text/plain": [
       "array([[109,   1],\n",
       "       [ 14, 125]], dtype=int64)"
      ]
     },
     "execution_count": 45,
     "metadata": {},
     "output_type": "execute_result"
    }
   ],
   "source": [
    "from sklearn.metrics import confusion_matrix\n",
    "conf_matix = confusion_matrix(y_test,test_predict_rfc)\n",
    "conf_matix"
   ]
  },
  {
   "cell_type": "code",
   "execution_count": null,
   "metadata": {},
   "outputs": [],
   "source": [
    "#checking for the important features"
   ]
  },
  {
   "cell_type": "code",
   "execution_count": 47,
   "metadata": {
    "colab": {
     "base_uri": "https://localhost:8080/"
    },
    "id": "zTm4YimBOleT",
    "outputId": "53bc598a-7061-4d39-97c1-e9b624321a34"
   },
   "outputs": [
    {
     "data": {
      "text/plain": [
       "array([0.04508975, 0.36833659, 0.03044994, 0.00945251, 0.20682345,\n",
       "       0.0893852 , 0.05216049, 0.08401133, 0.03170454, 0.04918224,\n",
       "       0.01087918, 0.02252479])"
      ]
     },
     "execution_count": 47,
     "metadata": {},
     "output_type": "execute_result"
    }
   ],
   "source": [
    "rfc.feature_importances_"
   ]
  },
  {
   "cell_type": "code",
   "execution_count": 48,
   "metadata": {
    "colab": {
     "base_uri": "https://localhost:8080/",
     "height": 206
    },
    "id": "JinKGs5nOu79",
    "outputId": "4f076453-43af-410b-d47b-a27048483635"
   },
   "outputs": [
    {
     "data": {
      "text/html": [
       "<div>\n",
       "<style scoped>\n",
       "    .dataframe tbody tr th:only-of-type {\n",
       "        vertical-align: middle;\n",
       "    }\n",
       "\n",
       "    .dataframe tbody tr th {\n",
       "        vertical-align: top;\n",
       "    }\n",
       "\n",
       "    .dataframe thead th {\n",
       "        text-align: right;\n",
       "    }\n",
       "</style>\n",
       "<table border=\"1\" class=\"dataframe\">\n",
       "  <thead>\n",
       "    <tr style=\"text-align: right;\">\n",
       "      <th></th>\n",
       "      <th>Names</th>\n",
       "      <th>Scores</th>\n",
       "    </tr>\n",
       "  </thead>\n",
       "  <tbody>\n",
       "    <tr>\n",
       "      <th>1</th>\n",
       "      <td>Married</td>\n",
       "      <td>0.368337</td>\n",
       "    </tr>\n",
       "    <tr>\n",
       "      <th>4</th>\n",
       "      <td>Self_Employed</td>\n",
       "      <td>0.206823</td>\n",
       "    </tr>\n",
       "    <tr>\n",
       "      <th>5</th>\n",
       "      <td>ApplicantIncome</td>\n",
       "      <td>0.089385</td>\n",
       "    </tr>\n",
       "    <tr>\n",
       "      <th>7</th>\n",
       "      <td>LoanAmount</td>\n",
       "      <td>0.084011</td>\n",
       "    </tr>\n",
       "    <tr>\n",
       "      <th>6</th>\n",
       "      <td>CoapplicantIncome</td>\n",
       "      <td>0.052160</td>\n",
       "    </tr>\n",
       "  </tbody>\n",
       "</table>\n",
       "</div>"
      ],
      "text/plain": [
       "               Names    Scores\n",
       "1            Married  0.368337\n",
       "4      Self_Employed  0.206823\n",
       "5    ApplicantIncome  0.089385\n",
       "7         LoanAmount  0.084011\n",
       "6  CoapplicantIncome  0.052160"
      ]
     },
     "execution_count": 48,
     "metadata": {},
     "output_type": "execute_result"
    }
   ],
   "source": [
    "x1=pd.DataFrame(rfc.feature_importances_,columns=[\"Scores\"])\n",
    "x2=pd.DataFrame(x_train.columns,columns=[\"Names\"])\n",
    "score_rfc=pd.concat([x2,x1],axis=1)\n",
    "score_rfc.sort_values(\"Scores\",ascending=False).head()"
   ]
  },
  {
   "cell_type": "code",
   "execution_count": null,
   "metadata": {},
   "outputs": [],
   "source": []
  },
  {
   "cell_type": "code",
   "execution_count": null,
   "metadata": {
    "id": "B3MZkVBYPWZ2"
   },
   "outputs": [],
   "source": [
    "# **Conclution\n",
    "The best driving features for the Loan default analysis are Married,Self_Employed, ApplicantIncome, LoanAmount & Credit_History_Available.\n",
    "Take into consideration of marital status and self employement while providing the loan\n"
   ]
  }
 ],
 "metadata": {
  "colab": {
   "name": "Fraud Detection_FinalProj.ipynb",
   "provenance": [],
   "toc_visible": true
  },
  "kernelspec": {
   "display_name": "Python 3",
   "language": "python",
   "name": "python3"
  },
  "language_info": {
   "codemirror_mode": {
    "name": "ipython",
    "version": 3
   },
   "file_extension": ".py",
   "mimetype": "text/x-python",
   "name": "python",
   "nbconvert_exporter": "python",
   "pygments_lexer": "ipython3",
   "version": "3.7.6"
  }
 },
 "nbformat": 4,
 "nbformat_minor": 1
}
